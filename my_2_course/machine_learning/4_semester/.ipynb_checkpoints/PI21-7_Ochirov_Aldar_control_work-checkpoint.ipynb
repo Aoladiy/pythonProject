{
 "cells": [
  {
   "cell_type": "code",
   "execution_count": 1,
   "id": "facb2bb8",
   "metadata": {},
   "outputs": [],
   "source": [
    "# классификация_2"
   ]
  },
  {
   "cell_type": "code",
   "execution_count": 2,
   "id": "4ac3385c",
   "metadata": {},
   "outputs": [],
   "source": [
    "# 1, 2 Познакомьтесь с возможностями библиотеки sklearn по загрузке датасетов из репозитория openml.org\n",
    "# Загрузите нужный вам датасет, выведите его основные характеристики:\n",
    "# количество строк и столбцов, типы данных, количество значений в каждом столбце, основную статистическую информацию об атрибутах."
   ]
  },
  {
   "cell_type": "code",
   "execution_count": 3,
   "id": "f0002674",
   "metadata": {},
   "outputs": [
    {
     "name": "stdout",
     "output_type": "stream",
     "text": [
      "**Author**: Margarida G. M. S. Cardoso      \n",
      "**Source**: UCI     \n",
      "**Please cite**: Abreu, N. (2011). Analise do perfil do cliente Recheio e desenvolvimento de um sistema promocional. Mestrado em Marketing, ISCTE-IUL, Lisbon.  \n",
      "\n",
      "* Title:   \n",
      "Wholesale customers Data Set \n",
      "\n",
      "* Abstract:   \n",
      "The data set refers to clients of a wholesale distributor. It includes the annual spending in monetary units (m.u.) on diverse product categories\n",
      "\n",
      "* Source:  \n",
      "Margarida G. M. S. Cardoso, margarida.cardoso '@' iscte.pt, ISCTE-IUL, Lisbon, Portugal\n",
      "\n",
      "* Attribute Information:\n",
      "\n",
      "1) FRESH: annual spending (m.u.) on fresh products (Continuous); \n",
      "2) MILK: annual spending (m.u.) on milk products (Continuous); \n",
      "3) GROCERY: annual spending (m.u.)on grocery products (Continuous); \n",
      "4) FROZEN: annual spending (m.u.)on frozen products (Continuous) \n",
      "5) DETERGENTS_PAPER: annual spending (m.u.) on detergents and paper products (Continuous) \n",
      "6) DELICATESSEN: annual spending (m.u.)on and delicatessen products (Continuous); \n",
      "7) CHANNEL: customers' Channel - Horeca (Hotel/Restaurant/Café) or Retail channel (Nominal) \n",
      "8) REGION: customers' Region - Lisbon, Porto or Other (Nominal) \n",
      "\n",
      "Descriptive Statistics: \n",
      "\n",
      "(Minimum, Maximum, Mean, Std. Deviation) \n",
      "FRESH ( 3, 112151, 12000.30, 12647.329) \n",
      "MILK (55, 73498, 5796.27, 7380.377) \n",
      "GROCERY (3, 92780, 7951.28, 9503.163) \n",
      "FROZEN (25, 60869, 3071.93, 4854.673) \n",
      "DETERGENTS_PAPER (3, 40827, 2881.49, 4767.854) \n",
      "DELICATESSEN (3, 47943, 1524.87, 2820.106) \n",
      "\n",
      "REGION Frequency \n",
      "Lisbon 77 \n",
      "Oporto 47 \n",
      "Other Region 316 \n",
      "Total 440 \n",
      "\n",
      "CHANNEL Frequency \n",
      "Horeca 298 \n",
      "Retail 142 \n",
      "Total 440 \n",
      "\n",
      "\n",
      "* Relevant Papers:\n",
      "\n",
      "Cardoso, Margarida G.M.S. (2013). Logical discriminant models â€“ Chapter 8 in Quantitative Modeling in Marketing and Management Edited by Luiz Moutinho and Kun-Huang Huarng. World Scientific. p. 223-253. ISBN 978-9814407717 \n",
      "\n",
      "Jean-Patrick Baudry, Margarida Cardoso, Gilles Celeux, Maria JosÃ© Amorim, Ana Sousa Ferreira (2012). Enhancing the selection of a model-based clustering with external qualitative variables. RESEARCH REPORT NÂ° 8124, October 2012, Project-Team SELECT. INRIA Saclay - ÃŽle-de-France, Projet select, UniversitÃ© Paris-Sud 11\n",
      "\n",
      "Downloaded from openml.org.\n",
      "----------------------------------------------------------------------------------------------------\n",
      "Количество строк: 440\n",
      "Количество столбцов: 8\n",
      "Типы данных:\n",
      "V1         float64\n",
      "V2         float64\n",
      "V3         float64\n",
      "V4         float64\n",
      "V5         float64\n",
      "V6         float64\n",
      "V7         float64\n",
      "Region    category\n",
      "dtype: object\n",
      "Количество значений:\n",
      "V1        440\n",
      "V2        440\n",
      "V3        440\n",
      "V4        440\n",
      "V5        440\n",
      "V6        440\n",
      "V7        440\n",
      "Region    440\n",
      "dtype: int64\n",
      "Основная статистическая информация:\n",
      "               V1             V2            V3            V4            V5  \\\n",
      "count  440.000000     440.000000    440.000000    440.000000    440.000000   \n",
      "mean     2.543182   12000.297727   5796.265909   7951.277273   3071.931818   \n",
      "std      0.774272   12647.328865   7380.377175   9503.162829   4854.673333   \n",
      "min      1.000000       3.000000     55.000000      3.000000     25.000000   \n",
      "25%      2.000000    3127.750000   1533.000000   2153.000000    742.250000   \n",
      "50%      3.000000    8504.000000   3627.000000   4755.500000   1526.000000   \n",
      "75%      3.000000   16933.750000   7190.250000  10655.750000   3554.250000   \n",
      "max      3.000000  112151.000000  73498.000000  92780.000000  60869.000000   \n",
      "\n",
      "                 V6            V7  \n",
      "count    440.000000    440.000000  \n",
      "mean    2881.493182   1524.870455  \n",
      "std     4767.854448   2820.105937  \n",
      "min        3.000000      3.000000  \n",
      "25%      256.750000    408.250000  \n",
      "50%      816.500000    965.500000  \n",
      "75%     3922.000000   1820.250000  \n",
      "max    40827.000000  47943.000000  \n"
     ]
    }
   ],
   "source": [
    "import pandas as pd\n",
    "from sklearn.datasets import fetch_openml\n",
    "import matplotlib.pyplot as plt\n",
    "from sklearn.model_selection import train_test_split\n",
    "from sklearn.preprocessing import LabelEncoder\n",
    "from sklearn.metrics import accuracy_score\n",
    "from sklearn.tree import DecisionTreeClassifier\n",
    "from sklearn.linear_model import LogisticRegression\n",
    "from sklearn.neighbors import KNeighborsClassifier\n",
    "\n",
    "data = fetch_openml(name='wholesale-customers', as_frame=True)\n",
    "\n",
    "print(data.DESCR)\n",
    "print(\"-\"*100)\n",
    "\n",
    "data = pd.DataFrame(data.data, columns=data.feature_names)\n",
    "\n",
    "print(f\"Количество строк: {data.shape[0]}\")\n",
    "print(f\"Количество столбцов: {data.shape[1]}\")\n",
    "\n",
    "print(\"Типы данных:\")\n",
    "print(data.dtypes)\n",
    "\n",
    "print(\"Количество значений:\")\n",
    "print(data.count())\n",
    "\n",
    "print(\"Основная статистическая информация:\")\n",
    "print(data.describe())"
   ]
  },
  {
   "cell_type": "code",
   "execution_count": 4,
   "id": "334e382e",
   "metadata": {},
   "outputs": [],
   "source": [
    "# 3 Прочитайте и изложите в работе общее описание датасета. Опишите, решаемую моделированием проблему."
   ]
  },
  {
   "cell_type": "code",
   "execution_count": 5,
   "id": "f2ac2b76",
   "metadata": {},
   "outputs": [],
   "source": [
    "# Набор данных относится к клиентам оптового дистрибьютора.\n",
    "# Он включает ежегодные расходы в денежных единицах на различные категории продуктов.\n",
    "\n",
    "# Выявление структуры и закономерностей в закупках,\n",
    "# это может помочь определить типы покупателей и их потребностей"
   ]
  },
  {
   "cell_type": "code",
   "execution_count": 6,
   "id": "17f7e300",
   "metadata": {},
   "outputs": [],
   "source": [
    "# 4 Удалите, если нужно, нечисловые колонки в датасете."
   ]
  },
  {
   "cell_type": "code",
   "execution_count": 7,
   "id": "967eddf3",
   "metadata": {},
   "outputs": [
    {
     "name": "stdout",
     "output_type": "stream",
     "text": [
      "V1    float64\n",
      "V2    float64\n",
      "V3    float64\n",
      "V4    float64\n",
      "V5    float64\n",
      "V6    float64\n",
      "V7    float64\n",
      "dtype: object\n"
     ]
    }
   ],
   "source": [
    "numeric_cols = data.select_dtypes(include=['float64', 'int64']).columns\n",
    "\n",
    "numeric_data = data[numeric_cols]\n",
    "print(numeric_data.dtypes)"
   ]
  },
  {
   "cell_type": "code",
   "execution_count": 8,
   "id": "c75e0443",
   "metadata": {},
   "outputs": [],
   "source": [
    "# 5 При необходимости заполните нулем пропущенные значения."
   ]
  },
  {
   "cell_type": "code",
   "execution_count": 9,
   "id": "0c1b7524",
   "metadata": {},
   "outputs": [],
   "source": [
    "numeric_data = numeric_data.fillna(value=0)"
   ]
  },
  {
   "cell_type": "code",
   "execution_count": 10,
   "id": "a9210352",
   "metadata": {},
   "outputs": [],
   "source": [
    "# 6 Постройте гистограммы распределения по каждому признаку."
   ]
  },
  {
   "cell_type": "code",
   "execution_count": 11,
   "id": "77b2cb89",
   "metadata": {},
   "outputs": [
    {
     "data": {
      "image/png": "[encoded data removed]",
      "text/plain": [
       "<Figure size 1080x720 with 9 Axes>"
      ]
     },
     "metadata": {
      "needs_background": "light"
     },
     "output_type": "display_data"
    }
   ],
   "source": [
    "numeric_data.hist(figsize=(15, 10))\n",
    "plt.show()"
   ]
  },
  {
   "cell_type": "code",
   "execution_count": 12,
   "id": "e1acd3c8",
   "metadata": {},
   "outputs": [],
   "source": [
    "# 7 Постройте модель машинного обучения, обучите ее на всем датасете."
   ]
  },
  {
   "cell_type": "code",
   "execution_count": 13,
   "id": "21e1547b",
   "metadata": {},
   "outputs": [],
   "source": [
    "data = fetch_openml(name='wholesale-customers', as_frame=True)\n",
    "data = pd.DataFrame(data.data, columns=data.feature_names)\n",
    "\n",
    "numeric_data = data.select_dtypes(include='number')\n",
    "numeric_data = numeric_data.fillna(value=0)\n",
    "\n",
    "region_classes = data['Region']\n",
    "\n",
    "X_train, X_test, y_train, y_test = train_test_split(numeric_data, region_classes, test_size=0.2, random_state=42)\n",
    "\n",
    "model = DecisionTreeClassifier()\n",
    "model.fit(X_train, y_train)\n",
    "\n",
    "y_pred = model.predict(X_test)"
   ]
  },
  {
   "cell_type": "code",
   "execution_count": 14,
   "id": "8529b76b",
   "metadata": {},
   "outputs": [],
   "source": [
    "# 8 Измерьте эффективность данной модели и сделайте вывод о ее применимости на практике."
   ]
  },
  {
   "cell_type": "code",
   "execution_count": 15,
   "id": "097820f6",
   "metadata": {},
   "outputs": [
    {
     "name": "stdout",
     "output_type": "stream",
     "text": [
      "Accuracy:  1.0\n"
     ]
    }
   ],
   "source": [
    "accuracy = accuracy_score(y_test, y_pred)\n",
    "print(\"Accuracy: \", accuracy)"
   ]
  },
  {
   "cell_type": "code",
   "execution_count": 16,
   "id": "aabb124e",
   "metadata": {},
   "outputs": [],
   "source": [
    "# 9 Визуализируйте результаты моделирования, сравните реальные и предсказанные значения.\n",
    "\n",
    "\n",
    "\n",
    "# предсказанные значения идеально подходят к реальным\n",
    "# модель либо переобучена, либо были даны простые данные"
   ]
  },
  {
   "cell_type": "code",
   "execution_count": 17,
   "id": "a5de3196",
   "metadata": {},
   "outputs": [
    {
     "data": {
      "image/png": "[encoded data removed]",
      "text/plain": [
       "<Figure size 720x432 with 1 Axes>"
      ]
     },
     "metadata": {
      "needs_background": "light"
     },
     "output_type": "display_data"
    }
   ],
   "source": [
    "fig, ax = plt.subplots(figsize=(10, 6))\n",
    "\n",
    "ax.scatter(y_test.index, y_test.values, marker='.', label='Real')\n",
    "ax.scatter(y_test.index, y_pred, marker='x', color='red', label='Predicted')\n",
    "\n",
    "plt.title('Comparison of real and predicted values')\n",
    "plt.xlabel('Index')\n",
    "plt.ylabel('Region')\n",
    "plt.legend()\n",
    "plt.show()"
   ]
  },
  {
   "cell_type": "code",
   "execution_count": 18,
   "id": "bc35ea47",
   "metadata": {},
   "outputs": [],
   "source": [
    "# 10 Используйте несколько простых моделей машинного обучения. Сравните их эффективность между собой\n",
    "# самой точной оказалась логистическая регрессия"
   ]
  },
  {
   "cell_type": "code",
   "execution_count": 19,
   "id": "654abe83",
   "metadata": {},
   "outputs": [
    {
     "name": "stdout",
     "output_type": "stream",
     "text": [
      "Accuracy Decision Tree: 0.8409090909090909\n",
      "Accuracy Logistic Regression: 0.9242424242424242\n",
      "Accuracy KNN: 0.8787878787878788\n"
     ]
    },
    {
     "name": "stderr",
     "output_type": "stream",
     "text": [
      "C:\\ProgramData\\Anaconda3\\lib\\site-packages\\sklearn\\linear_model\\_logistic.py:814: ConvergenceWarning: lbfgs failed to converge (status=1):\n",
      "STOP: TOTAL NO. of ITERATIONS REACHED LIMIT.\n",
      "\n",
      "Increase the number of iterations (max_iter) or scale the data as shown in:\n",
      "    https://scikit-learn.org/stable/modules/preprocessing.html\n",
      "Please also refer to the documentation for alternative solver options:\n",
      "    https://scikit-learn.org/stable/modules/linear_model.html#logistic-regression\n",
      "  n_iter_i = _check_optimize_result(\n",
      "C:\\ProgramData\\Anaconda3\\lib\\site-packages\\sklearn\\base.py:566: FutureWarning: Arrays of bytes/strings is being converted to decimal numbers if dtype='numeric'. This behavior is deprecated in 0.24 and will be removed in 1.1 (renaming of 0.26). Please convert your data to numeric values explicitly instead.\n",
      "  X = check_array(X, **check_params)\n",
      "C:\\ProgramData\\Anaconda3\\lib\\site-packages\\sklearn\\utils\\validation.py:964: FutureWarning: Arrays of bytes/strings is being converted to decimal numbers if dtype='numeric'. This behavior is deprecated in 0.24 and will be removed in 1.1 (renaming of 0.26). Please convert your data to numeric values explicitly instead.\n",
      "  X = check_array(\n",
      "C:\\ProgramData\\Anaconda3\\lib\\site-packages\\sklearn\\base.py:566: FutureWarning: Arrays of bytes/strings is being converted to decimal numbers if dtype='numeric'. This behavior is deprecated in 0.24 and will be removed in 1.1 (renaming of 0.26). Please convert your data to numeric values explicitly instead.\n",
      "  X = check_array(X, **check_params)\n"
     ]
    }
   ],
   "source": [
    "data = fetch_openml(name='wholesale-customers', as_frame=True)\n",
    "X = data.data\n",
    "y = data.target\n",
    "\n",
    "X_train, X_test, y_train, y_test = train_test_split(X, y, test_size=0.3, random_state=42)\n",
    "\n",
    "# решающее дерево\n",
    "dtc = DecisionTreeClassifier(random_state=42)\n",
    "dtc.fit(X_train, y_train)\n",
    "y_pred_dtc = dtc.predict(X_test)\n",
    "acc_dtc = accuracy_score(y_test, y_pred_dtc)\n",
    "\n",
    "# логистическая регрессия\n",
    "lr = LogisticRegression(random_state=42)\n",
    "lr.fit(X_train, y_train)\n",
    "y_pred_lr = lr.predict(X_test)\n",
    "acc_lr = accuracy_score(y_test, y_pred_lr)\n",
    "\n",
    "# метод ближайших соседей\n",
    "knn = KNeighborsClassifier()\n",
    "knn.fit(X_train, y_train)\n",
    "y_pred_knn = knn.predict(X_test)\n",
    "acc_knn = accuracy_score(y_test, y_pred_knn)\n",
    "\n",
    "# Вывод результатов\n",
    "print(f\"Accuracy Decision Tree: {acc_dtc}\")\n",
    "print(f\"Accuracy Logistic Regression: {acc_lr}\")\n",
    "print(f\"Accuracy KNN: {acc_knn}\")"
   ]
  },
  {
   "cell_type": "code",
   "execution_count": null,
   "id": "eff05fab",
   "metadata": {},
   "outputs": [],
   "source": []
  }
 ],
 "metadata": {
  "kernelspec": {
   "display_name": "Python 3 (ipykernel)",
   "language": "python",
   "name": "python3"
  },
  "language_info": {
   "codemirror_mode": {
    "name": "ipython",
    "version": 3
   },
   "file_extension": ".py",
   "mimetype": "text/x-python",
   "name": "python",
   "nbconvert_exporter": "python",
   "pygments_lexer": "ipython3",
   "version": "3.9.7"
  }
 },
 "nbformat": 4,
 "nbformat_minor": 5
}
