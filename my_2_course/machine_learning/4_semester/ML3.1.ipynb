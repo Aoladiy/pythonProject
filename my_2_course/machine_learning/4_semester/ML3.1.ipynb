{
 "cells": [
  {
   "cell_type": "markdown",
   "metadata": {
    "collapsed": true,
    "pycharm": {
     "name": "#%% md\n"
    }
   },
   "source": [
    "Изучите документацию sklearn, посвященную классу LogisticRegression. Какую еще информацию можно вывести для обученной модели? Попробуйте изменить аргументы при создании модели и посмотрите, как это влияет на качество предсказания."
   ]
  },
  {
   "cell_type": "code",
   "execution_count": 28,
   "outputs": [
    {
     "name": "stdout",
     "output_type": "stream",
     "text": [
      "Accuracy: 0.9649122807017544\n"
     ]
    }
   ],
   "source": [
    "from sklearn.datasets import load_breast_cancer\n",
    "from sklearn.model_selection import train_test_split\n",
    "from sklearn.linear_model import LogisticRegression\n",
    "from sklearn.metrics import accuracy_score\n",
    "\n",
    "# загрузка данных\n",
    "data = load_breast_cancer()\n",
    "X_train, X_test, y_train, y_test = train_test_split(data.data, data.target, test_size=0.2, random_state=42)\n",
    "\n",
    "# создание модели с параметром C=0.1 и solver='liblinear'\n",
    "model = LogisticRegression(C=0.1, solver='liblinear')\n",
    "\n",
    "# обучение модели\n",
    "model.fit(X_train, y_train)\n",
    "\n",
    "# предсказание на тестовом наборе данных\n",
    "y_pred = model.predict(X_test)\n",
    "\n",
    "# оценка точности модели\n",
    "print('Accuracy:', accuracy_score(y_test, y_pred))"
   ],
   "metadata": {
    "collapsed": false,
    "pycharm": {
     "name": "#%%\n"
    }
   }
  },
  {
   "cell_type": "markdown",
   "source": [
    "Попробуйте применить к той же задаче другие модели классификации. Для каждой из них выведите матрицу классификации и оценку точности. Рекомендуется исследовать следующие модели:\n",
    "Метод опорных векторов\n",
    "Без ядра\n",
    "С линейным ядром\n",
    "С гауссовым ядром\n",
    "С полиномиальным ядром"
   ],
   "metadata": {
    "collapsed": false,
    "pycharm": {
     "name": "#%% md\n"
    }
   }
  },
  {
   "cell_type": "code",
   "execution_count": 29,
   "outputs": [
    {
     "name": "stdout",
     "output_type": "stream",
     "text": [
      "Логистическая регрессия:\n",
      "Accuracy: 0.9649122807017544\n",
      "Матрица классификации:\n",
      "[[40  3]\n",
      " [ 1 70]]\n"
     ]
    },
    {
     "name": "stderr",
     "output_type": "stream",
     "text": [
      "C:\\Users\\Aldar\\AppData\\Local\\Programs\\Python\\Python310\\lib\\site-packages\\sklearn\\linear_model\\_logistic.py:458: ConvergenceWarning: lbfgs failed to converge (status=1):\n",
      "STOP: TOTAL NO. of ITERATIONS REACHED LIMIT.\n",
      "\n",
      "Increase the number of iterations (max_iter) or scale the data as shown in:\n",
      "    https://scikit-learn.org/stable/modules/preprocessing.html\n",
      "Please also refer to the documentation for alternative solver options:\n",
      "    https://scikit-learn.org/stable/modules/linear_model.html#logistic-regression\n",
      "  n_iter_i = _check_optimize_result(\n"
     ]
    },
    {
     "name": "stdout",
     "output_type": "stream",
     "text": [
      "Метод опорных векторов с линейным ядром:\n",
      "Accuracy: 0.956140350877193\n",
      "Матрица классификации:\n",
      "[[39  4]\n",
      " [ 1 70]]\n",
      "Метод опорных векторов с гауссовым ядром:\n",
      "Accuracy: 0.9473684210526315\n",
      "Матрица классификации:\n",
      "[[37  6]\n",
      " [ 0 71]]\n",
      "Метод опорных векторов с полиномиальным ядром:\n",
      "Accuracy: 0.9473684210526315\n",
      "Матрица классификации:\n",
      "[[37  6]\n",
      " [ 0 71]]\n"
     ]
    }
   ],
   "source": [
    "from sklearn.datasets import load_breast_cancer\n",
    "from sklearn.model_selection import train_test_split\n",
    "from sklearn.linear_model import LogisticRegression\n",
    "from sklearn.svm import SVC\n",
    "from sklearn.ensemble import RandomForestClassifier\n",
    "from sklearn.neighbors import KNeighborsClassifier\n",
    "from sklearn.metrics import accuracy_score, confusion_matrix\n",
    "\n",
    "# загрузка данных\n",
    "data = load_breast_cancer()\n",
    "X_train, X_test, y_train, y_test = train_test_split(data.data, data.target, test_size=0.2, random_state=42)\n",
    "\n",
    "# обучение и оценка логистической регрессии\n",
    "model_lr = LogisticRegression()\n",
    "model_lr.fit(X_train, y_train)\n",
    "y_pred_lr = model_lr.predict(X_test)\n",
    "print(\"Логистическая регрессия:\")\n",
    "print(\"Accuracy:\", accuracy_score(y_test, y_pred_lr))\n",
    "print(\"Матрица классификации:\")\n",
    "print(confusion_matrix(y_test, y_pred_lr))\n",
    "\n",
    "# обучение и оценка метода опорных векторов с линейным ядром\n",
    "model_svm_linear = SVC(kernel='linear')\n",
    "model_svm_linear.fit(X_train, y_train)\n",
    "y_pred_svm_linear = model_svm_linear.predict(X_test)\n",
    "print(\"Метод опорных векторов с линейным ядром:\")\n",
    "print(\"Accuracy:\", accuracy_score(y_test, y_pred_svm_linear))\n",
    "print(\"Матрица классификации:\")\n",
    "print(confusion_matrix(y_test, y_pred_svm_linear))\n",
    "\n",
    "# обучение и оценка метода опорных векторов с гауссовым ядром\n",
    "model_svm_rbf = SVC(kernel='rbf')\n",
    "model_svm_rbf.fit(X_train, y_train)\n",
    "y_pred_svm_rbf = model_svm_rbf.predict(X_test)\n",
    "print(\"Метод опорных векторов с гауссовым ядром:\")\n",
    "print(\"Accuracy:\", accuracy_score(y_test, y_pred_svm_rbf))\n",
    "print(\"Матрица классификации:\")\n",
    "print(confusion_matrix(y_test, y_pred_svm_rbf))\n",
    "\n",
    "# обучение и оценка метода опорных векторов с полиномиальным ядром\n",
    "model_svm_poly = SVC(kernel='poly')\n",
    "model_svm_poly.fit(X_train, y_train)\n",
    "y_pred_svm_poly = model_svm_poly.predict(X_test)\n",
    "print(\"Метод опорных векторов с полиномиальным ядром:\")\n",
    "print(\"Accuracy:\", accuracy_score(y_test, y_pred_svm_poly))\n",
    "print(\"Матрица классификации:\")\n",
    "print(confusion_matrix(y_test, y_pred_svm_poly))"
   ],
   "metadata": {
    "collapsed": false,
    "pycharm": {
     "name": "#%%\n"
    }
   }
  },
  {
   "cell_type": "markdown",
   "source": [
    "Метод ближайших соседей\n",
    "Многослойный перцептрон\n",
    "Дерево решений\n",
    "Наивный байесовский классификатор"
   ],
   "metadata": {
    "collapsed": false,
    "pycharm": {
     "name": "#%% md\n"
    }
   }
  },
  {
   "cell_type": "code",
   "execution_count": 30,
   "outputs": [
    {
     "name": "stdout",
     "output_type": "stream",
     "text": [
      "Метод ближайших соседей:\n",
      "Accuracy: 0.956140350877193\n",
      "Матрица классификации:\n",
      "[[38  5]\n",
      " [ 0 71]]\n",
      "Многослойный перцептрон:\n",
      "Accuracy: 0.9385964912280702\n",
      "Матрица классификации:\n",
      "[[36  7]\n",
      " [ 0 71]]\n",
      "Дерево решений:\n",
      "Accuracy: 0.9298245614035088\n",
      "Матрица классификации:\n",
      "[[40  3]\n",
      " [ 5 66]]\n",
      "Наивный байесовский классификатор:\n",
      "Accuracy: 0.9736842105263158\n",
      "Матрица классификации:\n",
      "[[40  3]\n",
      " [ 0 71]]\n"
     ]
    }
   ],
   "source": [
    "from sklearn.datasets import load_breast_cancer\n",
    "from sklearn.model_selection import train_test_split\n",
    "from sklearn.neighbors import KNeighborsClassifier\n",
    "from sklearn.neural_network import MLPClassifier\n",
    "from sklearn.tree import DecisionTreeClassifier\n",
    "from sklearn.naive_bayes import GaussianNB\n",
    "from sklearn.metrics import accuracy_score, confusion_matrix\n",
    "\n",
    "# загрузка данных\n",
    "data = load_breast_cancer()\n",
    "X_train, X_test, y_train, y_test = train_test_split(data.data, data.target, test_size=0.2, random_state=42)\n",
    "\n",
    "# обучение и оценка метода ближайших соседей\n",
    "model_knn = KNeighborsClassifier()\n",
    "model_knn.fit(X_train, y_train)\n",
    "y_pred_knn = model_knn.predict(X_test)\n",
    "print(\"Метод ближайших соседей:\")\n",
    "print(\"Accuracy:\", accuracy_score(y_test, y_pred_knn))\n",
    "print(\"Матрица классификации:\")\n",
    "print(confusion_matrix(y_test, y_pred_knn))\n",
    "\n",
    "# обучение и оценка многослойного перцептрона\n",
    "model_mlp = MLPClassifier()\n",
    "model_mlp.fit(X_train, y_train)\n",
    "y_pred_mlp = model_mlp.predict(X_test)\n",
    "print(\"Многослойный перцептрон:\")\n",
    "print(\"Accuracy:\", accuracy_score(y_test, y_pred_mlp))\n",
    "print(\"Матрица классификации:\")\n",
    "print(confusion_matrix(y_test, y_pred_mlp))\n",
    "\n",
    "# обучение и оценка дерева решений\n",
    "model_dt = DecisionTreeClassifier()\n",
    "model_dt.fit(X_train, y_train)\n",
    "y_pred_dt = model_dt.predict(X_test)\n",
    "print(\"Дерево решений:\")\n",
    "print(\"Accuracy:\", accuracy_score(y_test, y_pred_dt))\n",
    "print(\"Матрица классификации:\")\n",
    "print(confusion_matrix(y_test, y_pred_dt))\n",
    "\n",
    "# обучение и оценка наивного байесовского классификатора\n",
    "model_nb = GaussianNB()\n",
    "model_nb.fit(X_train, y_train)\n",
    "y_pred_nb = model_nb.predict(X_test)\n",
    "print(\"Наивный байесовский классификатор:\")\n",
    "print(\"Accuracy:\", accuracy_score(y_test, y_pred_nb))\n",
    "print(\"Матрица классификации:\")\n",
    "print(confusion_matrix(y_test, y_pred_nb))"
   ],
   "metadata": {
    "collapsed": false,
    "pycharm": {
     "name": "#%%\n"
    }
   }
  },
  {
   "cell_type": "markdown",
   "source": [
    "Пассивно-агрессивный классификатор\n",
    "Гребневый классификатор"
   ],
   "metadata": {
    "collapsed": false,
    "pycharm": {
     "name": "#%% md\n"
    }
   }
  },
  {
   "cell_type": "code",
   "execution_count": 31,
   "outputs": [
    {
     "name": "stdout",
     "output_type": "stream",
     "text": [
      "Пассивно-агрессивный классификатор:\n",
      "Accuracy: 0.9122807017543859\n",
      "Матрица классификации:\n",
      "[[33 10]\n",
      " [ 0 71]]\n",
      "Гребневый классификатор:\n",
      "Accuracy: 0.956140350877193\n",
      "Матрица классификации:\n",
      "[[39  4]\n",
      " [ 1 70]]\n"
     ]
    }
   ],
   "source": [
    "from sklearn.datasets import load_breast_cancer\n",
    "from sklearn.model_selection import train_test_split\n",
    "from sklearn.linear_model import PassiveAggressiveClassifier, RidgeClassifier\n",
    "from sklearn.metrics import accuracy_score, confusion_matrix\n",
    "\n",
    "# загрузка данных\n",
    "data = load_breast_cancer()\n",
    "X_train, X_test, y_train, y_test = train_test_split(data.data, data.target, test_size=0.2, random_state=42)\n",
    "\n",
    "# обучение и оценка пассивно-агрессивного классификатора\n",
    "model_pa = PassiveAggressiveClassifier()\n",
    "model_pa.fit(X_train, y_train)\n",
    "y_pred_pa = model_pa.predict(X_test)\n",
    "print(\"Пассивно-агрессивный классификатор:\")\n",
    "print(\"Accuracy:\", accuracy_score(y_test, y_pred_pa))\n",
    "print(\"Матрица классификации:\")\n",
    "print(confusion_matrix(y_test, y_pred_pa))\n",
    "\n",
    "# обучение и оценка гребневого классификатора\n",
    "model_rc = RidgeClassifier()\n",
    "model_rc.fit(X_train, y_train)\n",
    "y_pred_rc = model_rc.predict(X_test)\n",
    "print(\"Гребневый классификатор:\")\n",
    "print(\"Accuracy:\", accuracy_score(y_test, y_pred_rc))\n",
    "print(\"Матрица классификации:\")\n",
    "print(confusion_matrix(y_test, y_pred_rc))"
   ],
   "metadata": {
    "collapsed": false,
    "pycharm": {
     "name": "#%%\n"
    }
   }
  },
  {
   "cell_type": "markdown",
   "source": [
    "Случайный лес\n",
    "Беггинг"
   ],
   "metadata": {
    "collapsed": false,
    "pycharm": {
     "name": "#%% md\n"
    }
   }
  },
  {
   "cell_type": "code",
   "execution_count": 32,
   "outputs": [
    {
     "name": "stdout",
     "output_type": "stream",
     "text": [
      "Случайный лес:\n",
      "Accuracy: 0.9649122807017544\n",
      "Матрица классификации:\n",
      "[[40  3]\n",
      " [ 1 70]]\n",
      "Беггинг:\n",
      "Accuracy: 0.956140350877193\n",
      "Матрица классификации:\n",
      "[[40  3]\n",
      " [ 2 69]]\n"
     ]
    }
   ],
   "source": [
    "from sklearn.datasets import load_breast_cancer\n",
    "from sklearn.model_selection import train_test_split\n",
    "from sklearn.ensemble import RandomForestClassifier, BaggingClassifier\n",
    "from sklearn.metrics import accuracy_score, confusion_matrix\n",
    "\n",
    "# загрузка данных\n",
    "data = load_breast_cancer()\n",
    "X_train, X_test, y_train, y_test = train_test_split(data.data, data.target, test_size=0.2, random_state=42)\n",
    "\n",
    "# обучение и оценка случайного леса\n",
    "model_rf = RandomForestClassifier()\n",
    "model_rf.fit(X_train, y_train)\n",
    "y_pred_rf = model_rf.predict(X_test)\n",
    "print(\"Случайный лес:\")\n",
    "print(\"Accuracy:\", accuracy_score(y_test, y_pred_rf))\n",
    "print(\"Матрица классификации:\")\n",
    "print(confusion_matrix(y_test, y_pred_rf))\n",
    "\n",
    "# обучение и оценка беггинга\n",
    "model_bg = BaggingClassifier()\n",
    "model_bg.fit(X_train, y_train)\n",
    "y_pred_bg = model_bg.predict(X_test)\n",
    "print(\"Беггинг:\")\n",
    "print(\"Accuracy:\", accuracy_score(y_test, y_pred_bg))\n",
    "print(\"Матрица классификации:\")\n",
    "print(confusion_matrix(y_test, y_pred_bg))"
   ],
   "metadata": {
    "collapsed": false,
    "pycharm": {
     "name": "#%%\n"
    }
   }
  },
  {
   "cell_type": "markdown",
   "source": [
    "Напишите функцию, которая автоматически обучает все перечисленные модели и для каждой выдает оценку точности."
   ],
   "metadata": {
    "collapsed": false,
    "pycharm": {
     "name": "#%% md\n"
    }
   }
  },
  {
   "cell_type": "code",
   "execution_count": 33,
   "outputs": [
    {
     "name": "stderr",
     "output_type": "stream",
     "text": [
      "C:\\Users\\Aldar\\AppData\\Local\\Programs\\Python\\Python310\\lib\\site-packages\\sklearn\\linear_model\\_logistic.py:458: ConvergenceWarning: lbfgs failed to converge (status=1):\n",
      "STOP: TOTAL NO. of ITERATIONS REACHED LIMIT.\n",
      "\n",
      "Increase the number of iterations (max_iter) or scale the data as shown in:\n",
      "    https://scikit-learn.org/stable/modules/preprocessing.html\n",
      "Please also refer to the documentation for alternative solver options:\n",
      "    https://scikit-learn.org/stable/modules/linear_model.html#logistic-regression\n",
      "  n_iter_i = _check_optimize_result(\n"
     ]
    },
    {
     "name": "stdout",
     "output_type": "stream",
     "text": [
      "Логистическая регрессия : 0.9649122807017544\n",
      "Метод опорных векторов без ядра : 0.956140350877193\n",
      "Метод опорных векторов с линейным ядром : 0.9385964912280702\n",
      "Метод опорных векторов с гауссовым ядром : 0.9473684210526315\n",
      "Метод опорных векторов с полиномиальным ядром : 0.9473684210526315\n",
      "Метод ближайших соседей : 0.956140350877193\n",
      "Многослойный перцептрон : 0.9385964912280702\n",
      "Дерево решений : 0.9385964912280702\n",
      "Наивный байесовский классификатор : 0.9736842105263158\n",
      "Пассивно-агрессивный классификатор : 0.9473684210526315\n",
      "Гребневой классификатор : 0.956140350877193\n",
      "Случайный лес : 0.9649122807017544\n",
      "Беггинг : 0.956140350877193\n"
     ]
    }
   ],
   "source": [
    "from sklearn.datasets import load_breast_cancer\n",
    "from sklearn.model_selection import train_test_split\n",
    "from sklearn.linear_model import LogisticRegression\n",
    "from sklearn.svm import SVC\n",
    "from sklearn.neighbors import KNeighborsClassifier\n",
    "from sklearn.neural_network import MLPClassifier\n",
    "from sklearn.tree import DecisionTreeClassifier\n",
    "from sklearn.naive_bayes import GaussianNB\n",
    "from sklearn.ensemble import RandomForestClassifier, BaggingClassifier\n",
    "from sklearn.linear_model import PassiveAggressiveClassifier, RidgeClassifier\n",
    "from sklearn.metrics import accuracy_score\n",
    "\n",
    "def train_models(data, target, test_size=0.2, random_state=42):\n",
    "    # разделение данных на обучающую и тестовую выборки\n",
    "    X_train, X_test, y_train, y_test = train_test_split(data, target, test_size=test_size, random_state=random_state)\n",
    "\n",
    "    # модели для обучения\n",
    "    models = [\n",
    "        (\"Логистическая регрессия\", LogisticRegression()),\n",
    "        (\"Метод опорных векторов без ядра\", SVC(kernel='linear')),\n",
    "        (\"Метод опорных векторов с линейным ядром\", SVC(kernel='poly', degree=1)),\n",
    "        (\"Метод опорных векторов с гауссовым ядром\", SVC(kernel='rbf')),\n",
    "        (\"Метод опорных векторов с полиномиальным ядром\", SVC(kernel='poly', degree=3)),\n",
    "        (\"Метод ближайших соседей\", KNeighborsClassifier(n_neighbors=5)),\n",
    "        (\"Многослойный перцептрон\", MLPClassifier(hidden_layer_sizes=(100, 50), max_iter=1000)),\n",
    "        (\"Дерево решений\", DecisionTreeClassifier(max_depth=5)),\n",
    "        (\"Наивный байесовский классификатор\", GaussianNB()),\n",
    "        (\"Пассивно-агрессивный классификатор\", PassiveAggressiveClassifier()),\n",
    "        (\"Гребневой классификатор\", RidgeClassifier()),\n",
    "        (\"Случайный лес\", RandomForestClassifier()),\n",
    "        (\"Беггинг\", BaggingClassifier())\n",
    "    ]\n",
    "\n",
    "    # обучение и оценка точности моделей\n",
    "    results = {}\n",
    "    for name, model in models:\n",
    "        model.fit(X_train, y_train)\n",
    "        y_pred = model.predict(X_test)\n",
    "        acc = accuracy_score(y_test, y_pred)\n",
    "        results[name] = acc\n",
    "\n",
    "    return results\n",
    "data = load_breast_cancer().data\n",
    "target = load_breast_cancer().target\n",
    "results = train_models(data, target)\n",
    "for name, acc in results.items():\n",
    "    print(name, \":\", acc)\n"
   ],
   "metadata": {
    "collapsed": false,
    "pycharm": {
     "name": "#%%\n"
    }
   }
  },
  {
   "cell_type": "markdown",
   "source": [
    "Повторите полностью анализ для другой задачи - распознавание вида ириса по параметрам растения (можно использовать метод sklearn.datasets.load_iris())."
   ],
   "metadata": {
    "collapsed": false,
    "pycharm": {
     "name": "#%% md\n"
    }
   }
  },
  {
   "cell_type": "code",
   "execution_count": 34,
   "outputs": [
    {
     "name": "stdout",
     "output_type": "stream",
     "text": [
      "Logistic Regression: 1.000\n",
      "SVM: 1.000\n",
      "KNN: 1.000\n",
      "Multi-layer Perceptron: 1.000\n",
      "Decision Tree: 1.000\n",
      "Naive Bayes: 1.000\n",
      "Passive-Aggressive: 0.867\n",
      "Ridge Classifier: 0.900\n"
     ]
    },
    {
     "name": "stderr",
     "output_type": "stream",
     "text": [
      "C:\\Users\\Aldar\\AppData\\Local\\Programs\\Python\\Python310\\lib\\site-packages\\sklearn\\linear_model\\_logistic.py:458: ConvergenceWarning: lbfgs failed to converge (status=1):\n",
      "STOP: TOTAL NO. of ITERATIONS REACHED LIMIT.\n",
      "\n",
      "Increase the number of iterations (max_iter) or scale the data as shown in:\n",
      "    https://scikit-learn.org/stable/modules/preprocessing.html\n",
      "Please also refer to the documentation for alternative solver options:\n",
      "    https://scikit-learn.org/stable/modules/linear_model.html#logistic-regression\n",
      "  n_iter_i = _check_optimize_result(\n",
      "C:\\Users\\Aldar\\AppData\\Local\\Programs\\Python\\Python310\\lib\\site-packages\\sklearn\\neural_network\\_multilayer_perceptron.py:686: ConvergenceWarning: Stochastic Optimizer: Maximum iterations (200) reached and the optimization hasn't converged yet.\n",
      "  warnings.warn(\n"
     ]
    },
    {
     "name": "stdout",
     "output_type": "stream",
     "text": [
      "Random Forest: 1.000\n",
      "Bagging: 1.000\n"
     ]
    }
   ],
   "source": [
    "from sklearn.datasets import load_iris\n",
    "from sklearn.model_selection import train_test_split\n",
    "from sklearn.linear_model import LogisticRegression\n",
    "from sklearn.svm import SVC\n",
    "from sklearn.neighbors import KNeighborsClassifier\n",
    "from sklearn.neural_network import MLPClassifier\n",
    "from sklearn.tree import DecisionTreeClassifier\n",
    "from sklearn.naive_bayes import GaussianNB\n",
    "from sklearn.linear_model import PassiveAggressiveClassifier\n",
    "from sklearn.linear_model import RidgeClassifier\n",
    "from sklearn.ensemble import RandomForestClassifier, BaggingClassifier\n",
    "from sklearn.metrics import accuracy_score\n",
    "\n",
    "# загрузка данных\n",
    "data = load_iris()\n",
    "X_train, X_test, y_train, y_test = train_test_split(data.data, data.target, test_size=0.2, random_state=42)\n",
    "\n",
    "# модели\n",
    "models = [\n",
    "    ('Logistic Regression', LogisticRegression()),\n",
    "    ('SVM', SVC()),\n",
    "    ('KNN', KNeighborsClassifier()),\n",
    "    ('Multi-layer Perceptron', MLPClassifier()),\n",
    "    ('Decision Tree', DecisionTreeClassifier()),\n",
    "    ('Naive Bayes', GaussianNB()),\n",
    "    ('Passive-Aggressive', PassiveAggressiveClassifier()),\n",
    "    ('Ridge Classifier', RidgeClassifier()),\n",
    "    ('Random Forest', RandomForestClassifier()),\n",
    "    ('Bagging', BaggingClassifier())\n",
    "]\n",
    "\n",
    "# обучение и оценка каждой модели\n",
    "for name, model in models:\n",
    "    model.fit(X_train, y_train)\n",
    "    y_pred = model.predict(X_test)\n",
    "    accuracy = accuracy_score(y_test, y_pred)\n",
    "    print(f\"{name}: {accuracy:.3f}\")"
   ],
   "metadata": {
    "collapsed": false,
    "pycharm": {
     "name": "#%%\n"
    }
   }
  },
  {
   "cell_type": "code",
   "execution_count": 34,
   "outputs": [],
   "source": [],
   "metadata": {
    "collapsed": false,
    "pycharm": {
     "name": "#%%\n"
    }
   }
  }
 ],
 "metadata": {
  "kernelspec": {
   "display_name": "Python 3",
   "language": "python",
   "name": "python3"
  },
  "language_info": {
   "codemirror_mode": {
    "name": "ipython",
    "version": 2
   },
   "file_extension": ".py",
   "mimetype": "text/x-python",
   "name": "python",
   "nbconvert_exporter": "python",
   "pygments_lexer": "ipython2",
   "version": "2.7.6"
  }
 },
 "nbformat": 4,
 "nbformat_minor": 0
}