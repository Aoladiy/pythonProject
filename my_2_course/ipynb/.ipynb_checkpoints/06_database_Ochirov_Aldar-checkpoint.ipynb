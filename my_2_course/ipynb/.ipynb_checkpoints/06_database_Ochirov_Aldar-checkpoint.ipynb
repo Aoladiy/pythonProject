{
 "cells": [
  {
   "cell_type": "markdown",
   "metadata": {
    "id": "DPn5w9YrrsmT"
   },
   "source": [
    "# Работа с базами данных"
   ]
  },
  {
   "cell_type": "markdown",
   "metadata": {
    "id": "5nRHCI98rsmW"
   },
   "source": [
    "Материалы:\n",
    "* Макрушин С.В. Лекция 6: Работа с базами данных\n",
    "* https://sqliteonline.com/\n",
    "* https://docs.python.org/3/library/sqlite3.html\n",
    "* https://www.geeksforgeeks.org/sql-join-set-1-inner-left-right-and-full-joins/\n",
    "* https://www.datacamp.com/community/tutorials/group-by-having-clause-sql"
   ]
  },
  {
   "cell_type": "markdown",
   "metadata": {
    "id": "bnM8XXEsrsmX"
   },
   "source": [
    "## Задачи для совместного разбора"
   ]
  },
  {
   "cell_type": "markdown",
   "metadata": {
    "id": "DRVGaXECrsmY"
   },
   "source": [
    "1. Работая с базой данных `Chinook_Sqlite.sqlite`, найдите и выведите на экран имена и фамилии всех заказчиков из Канады"
   ]
  },
  {
   "cell_type": "markdown",
   "metadata": {
    "id": "FzL_6LMgrsmY"
   },
   "source": [
    "2. Найти и вывести на экран названия всех альбомов группы Accept"
   ]
  },
  {
   "cell_type": "markdown",
   "metadata": {
    "id": "_YHlYeiRrsmZ"
   },
   "source": [
    "3. Создайте базу данных с названием вашей группы. В этой базе данных создайте таблицу Student, содержащую 2 столбца: id и name. Добавьте в таблицу Student информацию о студентах, сидящих с вами по соседству."
   ]
  },
  {
   "cell_type": "markdown",
   "metadata": {
    "id": "hW3jjiZ-rsmZ"
   },
   "source": [
    "## Лабораторная работа 6"
   ]
  },
  {
   "cell_type": "markdown",
   "metadata": {
    "id": "zGm2EuLirsma"
   },
   "source": [
    "1. Создайте файл базы данных c названием `recipes.db`. Создайте объект-курсор."
   ]
  },
  {
   "cell_type": "code",
   "execution_count": 1,
   "metadata": {
    "pycharm": {
     "name": "#%%\n"
    }
   },
   "outputs": [],
   "source": [
    "import sqlite3\n",
    "\n",
    "# 1\n",
    "import pandas as pd\n",
    "\n",
    "con = sqlite3.connect(\"../data/recipes.db\")\n",
    "cur = con.cursor()"
   ]
  },
  {
   "cell_type": "markdown",
   "metadata": {
    "id": "jqHsnBV8rsma"
   },
   "source": [
    "2. Напишите и выполните SQL-запрос для создания таблицы рецептов `Recipe`. Таблица должна содержать следующие поля:\n",
    "`id`, `name`, `minutes`, `submitted`, `description`, `n_ingredients`. Определитесь с типами и составом ключевых полей."
   ]
  },
  {
   "cell_type": "code",
   "execution_count": 2,
   "metadata": {
    "pycharm": {
     "name": "#%%\n"
    }
   },
   "outputs": [
    {
     "name": "stdout",
     "output_type": "stream",
     "text": [
      "Ошибка: table Recipe already exists\n"
     ]
    }
   ],
   "source": [
    "# 2\n",
    "sql_2 = \"\"\"\n",
    "create table Recipe (\n",
    "    id integer primary key autoincrement not null,\n",
    "    name varchar(255),\n",
    "    minutes integer,\n",
    "    submitted timestamp,\n",
    "    description text,\n",
    "    n_ingredients integer\n",
    ")\n",
    "\"\"\"\n",
    "try:\n",
    "    cur.execute(sql_2)\n",
    "    con.commit()\n",
    "except sqlite3.OperationalError as err:\n",
    "    print(\"Ошибка:\", err)"
   ]
  },
  {
   "cell_type": "markdown",
   "metadata": {
    "id": "4ssWNkfqrsmb"
   },
   "source": [
    "3. Напишите и выполните SQL-запрос для создания таблицы отзывов `Review`. Таблица должна содержать следующие поля:\n",
    "`id`, `user_id`, `recipe_id`, `date`, `rating`, `review`. Определитесь с типами полей, набором ключевых полей. При помощи внешнего ключа соедините две таблицы."
   ]
  },
  {
   "cell_type": "code",
   "execution_count": 3,
   "metadata": {
    "pycharm": {
     "name": "#%%\n"
    }
   },
   "outputs": [
    {
     "name": "stdout",
     "output_type": "stream",
     "text": [
      "Ошибка: table Review already exists\n"
     ]
    }
   ],
   "source": [
    "# 3\n",
    "sql_3 = \"\"\"\n",
    "create table Review (\n",
    "    id integer primary key autoincrement not null,\n",
    "    user_id integer not null,\n",
    "    recipe_id integer,\n",
    "    date timestamp,\n",
    "    rating integer,\n",
    "    review text,\n",
    "    foreign key (recipe_id) references\n",
    "    Recipe (id)\n",
    ")\n",
    "\"\"\"\n",
    "try:\n",
    "    cur.execute(sql_3)\n",
    "    con.commit()\n",
    "except sqlite3.OperationalError as err:\n",
    "    print(\"Ошибка:\", err)"
   ]
  },
  {
   "cell_type": "markdown",
   "metadata": {
    "id": "GksAc4Xxrsmc"
   },
   "source": [
    "4. Загрузите данные из файлов `reviews_sample.csv` (__ЛР2__) и `recipes_sample_with_tags_ingredients.csv` (__ЛР5__) в созданные таблицы"
   ]
  },
  {
   "cell_type": "code",
   "execution_count": 4,
   "metadata": {
    "pycharm": {
     "name": "#%%\n"
    }
   },
   "outputs": [
    {
     "name": "stdout",
     "output_type": "stream",
     "text": [
      "Ошибка: UNIQUE constraint failed: Review.id\n",
      "Ошибка: UNIQUE constraint failed: Recipe.id\n"
     ]
    }
   ],
   "source": [
    "# 4\n",
    "# recipes_sample_with_tags_ingredients = recipes.merge(tags, left_on=\"id\", right_on=\"id\")\n",
    "# recipes_sample_with_tags_ingredients.to_csv(\"../data/recipes_sample_with_tags_ingredients\")\n",
    "reviews = pd.read_csv(\"../data/reviews_sample.csv\")\n",
    "reviews.rename(columns={\"Unnamed: 0\": \"id\"}, inplace=True)\n",
    "\n",
    "recipes = pd.read_csv(\"../data/recipes_sample.csv\")\n",
    "recipes_sample = recipes[[\"id\", \"name\", \"minutes\", \"submitted\", \"description\", \"n_ingredients\"]]\n",
    "\n",
    "try:\n",
    "    reviews.to_sql(\"Review\", con, if_exists=\"append\", index=False)\n",
    "except sqlite3.IntegrityError as err:\n",
    "    print(\"Ошибка:\", err)\n",
    "\n",
    "try:\n",
    "    recipes_sample.to_sql(\"Recipe\", con, if_exists=\"append\", index=False)\n",
    "except sqlite3.IntegrityError as err:\n",
    "    print(\"Ошибка:\", err)"
   ]
  },
  {
   "cell_type": "markdown",
   "metadata": {
    "id": "Sw8wXB7Xrsmc"
   },
   "source": [
    "5. Найдите все рецепты, для выполнения которых нужно ровно 10 ингредиентов. Выведите на экран первые 5 из найденных рецептов."
   ]
  },
  {
   "cell_type": "code",
   "execution_count": 5,
   "metadata": {
    "pycharm": {
     "name": "#%%\n"
    }
   },
   "outputs": [
    {
     "name": "stdout",
     "output_type": "stream",
     "text": [
      "('lee s hot crab dip',)\n",
      "('feijoada  brazilian bean soup  ii',)\n",
      "('greek mushroom salad',)\n",
      "('cucumber relish',)\n",
      "('basil parmesan biscuits',)\n",
      "------------------------------\n"
     ]
    }
   ],
   "source": [
    "# 5\n",
    "sql_5 = \"\"\"\n",
    "select name from Recipe\n",
    "where n_ingredients = 10\n",
    "\"\"\"\n",
    "cur = con.cursor()\n",
    "cur.execute(sql_5)\n",
    "print(*cur.fetchmany(5), sep=\"\\n\")\n",
    "print(\"-\" * 30)"
   ]
  },
  {
   "cell_type": "markdown",
   "metadata": {
    "id": "9baa-c9yrsmc"
   },
   "source": [
    "6. Найдите название рецепта, для выполнения которого требуется больше всего времени."
   ]
  },
  {
   "cell_type": "code",
   "execution_count": 6,
   "metadata": {
    "pycharm": {
     "name": "#%%\n"
    }
   },
   "outputs": [
    {
     "name": "stdout",
     "output_type": "stream",
     "text": [
      "('strawberry liqueur',)\n",
      "('blueberry liqueur',)\n",
      "------------------------------\n"
     ]
    }
   ],
   "source": [
    "# 6\n",
    "sql_6 = \"\"\"\n",
    "select name from Recipe\n",
    "where minutes = (\n",
    "    select max(minutes)\n",
    "    from Recipe)\n",
    "\"\"\"\n",
    "cur = con.cursor()\n",
    "cur.execute(sql_6)\n",
    "print(*cur.fetchall(), sep=\"\\n\")\n",
    "print(\"-\" * 30)"
   ]
  },
  {
   "cell_type": "markdown",
   "metadata": {
    "id": "RZk-p3l4rsmc"
   },
   "source": [
    "7. Запросите у пользователя id рецепта и верните информацию об этом рецепте. Если рецепт отсуствует, выведите соответствующее сообщение."
   ]
  },
  {
   "cell_type": "code",
   "execution_count": 7,
   "metadata": {
    "pycharm": {
     "name": "#%%\n"
    }
   },
   "outputs": [
    {
     "name": "stdout",
     "output_type": "stream",
     "text": [
      "Введите id >>> 48\n",
      "(48, 'boston cream pie', 135, '1999-08-24', None, 15)\n",
      "------------------------------\n"
     ]
    }
   ],
   "source": [
    "# 7\n",
    "sql_7 = \"\"\"\n",
    "select * from Recipe\n",
    "where id = ?\n",
    "\"\"\"\n",
    "id = (int(input(\"Введите id >>> \")),)\n",
    "cur = con.cursor()\n",
    "cur.execute(sql_7, id)\n",
    "result = cur.fetchone()\n",
    "if result:\n",
    "    print(result)\n",
    "else:\n",
    "    print(\"Не найдено\")\n",
    "print(\"-\" * 30)"
   ]
  },
  {
   "cell_type": "markdown",
   "metadata": {
    "id": "xnX68zVArsmd"
   },
   "source": [
    "8. Найдите кол-во отзывов с рейтингом 5."
   ]
  },
  {
   "cell_type": "code",
   "execution_count": 8,
   "metadata": {
    "pycharm": {
     "name": "#%%\n"
    }
   },
   "outputs": [
    {
     "name": "stdout",
     "output_type": "stream",
     "text": [
      "(91361,)\n",
      "------------------------------\n"
     ]
    }
   ],
   "source": [
    "# 8\n",
    "sql_8 = \"\"\"\n",
    "select count(id) from Review\n",
    "where rating = 5\n",
    "\"\"\"\n",
    "cur = con.cursor()\n",
    "cur.execute(sql_8)\n",
    "print(*cur.fetchall(), sep=\"\\n\")\n",
    "print(\"-\" * 30)"
   ]
  },
  {
   "cell_type": "markdown",
   "metadata": {
    "id": "LrRXHAbGrsmd"
   },
   "source": [
    "9. Найдите кол-во уникальных рецептов, не имеющих отзывов с рейтингом, меньше 4. "
   ]
  },
  {
   "cell_type": "code",
   "execution_count": 9,
   "metadata": {
    "pycharm": {
     "name": "#%%\n"
    }
   },
   "outputs": [
    {
     "name": "stdout",
     "output_type": "stream",
     "text": [
      "(0,)\n",
      "------------------------------\n"
     ]
    }
   ],
   "source": [
    "# 9\n",
    "sql_9 = \"\"\"\n",
    "select count(id) from Review\n",
    "where rating < 4 and review is Null\n",
    "\"\"\"\n",
    "cur = con.cursor()\n",
    "cur.execute(sql_9)\n",
    "print(*cur.fetchall(), sep=\"\\n\")\n",
    "print(\"-\" * 30)"
   ]
  },
  {
   "cell_type": "markdown",
   "metadata": {
    "id": "z69WbPlirsmd"
   },
   "source": [
    "10. Найдите кол-во рецептов, опубликованных в 2010 году и имеющих длину не менее 15 минут."
   ]
  },
  {
   "cell_type": "code",
   "execution_count": 10,
   "metadata": {
    "pycharm": {
     "name": "#%%\n"
    }
   },
   "outputs": [
    {
     "name": "stdout",
     "output_type": "stream",
     "text": [
      "(2729,)\n",
      "------------------------------\n"
     ]
    }
   ],
   "source": [
    "# 10\n",
    "sql_10 = \"\"\"\n",
    "select count(Recipe.id) from Review join Recipe on Review.recipe_id=Recipe.id\n",
    "where minutes >= 15 and submitted between '2010-01-01' and '2010-12-31'\n",
    "\"\"\"\n",
    "cur = con.cursor()\n",
    "cur.execute(sql_10)\n",
    "print(*cur.fetchall(), sep=\"\\n\")\n",
    "print(\"-\" * 30)"
   ]
  },
  {
   "cell_type": "markdown",
   "metadata": {
    "id": "aOVDaNlBrsmd"
   },
   "source": [
    "11. Выберите id рецепта, название рецепта, id пользователя, оставившего отзыв, дату отзыва и рейтинг для тех рецептов, которые имеют не менее 3 ингредиентов. Отсортируйте результат по id рецепта."
   ]
  },
  {
   "cell_type": "code",
   "execution_count": 11,
   "metadata": {
    "pycharm": {
     "name": "#%%\n"
    }
   },
   "outputs": [
    {
     "name": "stdout",
     "output_type": "stream",
     "text": [
      "(48, 'boston cream pie', 32421, '2002-03-15', 0)\n",
      "(48, 'boston cream pie', 68674, '2004-05-03', 2)\n",
      "(55, 'betty crocker s southwestern guacamole dip', 53959, '2006-01-12', 4)\n",
      "(55, 'betty crocker s southwestern guacamole dip', 165567, '2006-03-31', 5)\n",
      "(55, 'betty crocker s southwestern guacamole dip', 1060485, '2009-04-07', 5)\n",
      "(55, 'betty crocker s southwestern guacamole dip', 851190, '2010-05-23', 5)\n",
      "(66, 'black coffee barbecue sauce', 42938, '2002-10-21', 4)\n",
      "(66, 'black coffee barbecue sauce', 8679, '2003-03-17', 5)\n",
      "(66, 'black coffee barbecue sauce', 136813, '2007-04-14', 5)\n",
      "(66, 'black coffee barbecue sauce', 498631, '2007-05-11', 5)\n",
      "------------------------------\n"
     ]
    }
   ],
   "source": [
    "# 11\n",
    "sql_11 = \"\"\"\n",
    "select Recipe.id,\n",
    "        name,\n",
    "        user_id,\n",
    "        date,\n",
    "        rating\n",
    "from Review join Recipe on Review.recipe_id=Recipe.id\n",
    "where n_ingredients > 3\n",
    "order by Recipe.id\n",
    "\"\"\"\n",
    "cur = con.cursor()\n",
    "cur.execute(sql_11)\n",
    "print(*cur.fetchall()[:10], sep=\"\\n\")\n",
    "print(\"-\" * 30)"
   ]
  }
 ],
 "metadata": {
  "colab": {
   "provenance": []
  },
  "kernelspec": {
   "display_name": "Python 3 (ipykernel)",
   "language": "python",
   "name": "python3"
  },
  "language_info": {
   "codemirror_mode": {
    "name": "ipython",
    "version": 3
   },
   "file_extension": ".py",
   "mimetype": "text/x-python",
   "name": "python",
   "nbconvert_exporter": "python",
   "pygments_lexer": "ipython3",
   "version": "3.10.6"
  }
 },
 "nbformat": 4,
 "nbformat_minor": 1
}
