{
 "cells": [
  {
   "cell_type": "markdown",
   "metadata": {},
   "source": [
    "## Лабораторная работа 7"
   ]
  },
  {
   "cell_type": "code",
   "execution_count": 210,
   "metadata": {},
   "outputs": [
    {
     "name": "stderr",
     "output_type": "stream",
     "text": [
      "[nltk_data] Downloading package stopwords to\n",
      "[nltk_data]     C:\\Users\\Shurik\\AppData\\Roaming\\nltk_data...\n",
      "[nltk_data]   Package stopwords is already up-to-date!\n"
     ]
    }
   ],
   "source": [
    "import pandas as pd\n",
    "from nltk import word_tokenize\n",
    "from Levenshtein import distance as lev\n",
    "import nltk\n",
    "import pymorphy2\n",
    "from nltk.stem import SnowballStemmer\n",
    "from nltk.corpus import stopwords\n",
    "nltk.download('stopwords')\n",
    "from collections import Counter\n",
    "from sklearn.feature_extraction.text import TfidfVectorizer\n",
    "from sklearn.metrics.pairwise import cosine_similarity\n",
    "from sklearn.feature_extraction.text import CountVectorizer"
   ]
  },
  {
   "cell_type": "markdown",
   "metadata": {},
   "source": [
    "1\\. Загрузите данные из файла `ru_recipes_sample.csv` в виде `pd.DataFrame` `recipes` Используя регулярные выражения, удалите из описаний (столбец `description`) все символы, кроме русских букв, цифр и пробелов. Приведите все слова в описании к нижнему регистру. Сохраните полученный результат в столбец `description`."
   ]
  },
  {
   "cell_type": "code",
   "execution_count": 211,
   "metadata": {},
   "outputs": [
    {
     "data": {
      "text/plain": [
       "0       этот коктейль готовлю из замороженной клубники...\n",
       "1                                         быстро и вкусно\n",
       "2                сытный овощной салатик пальчики оближете\n",
       "3       картофельное пюре и куриные котлеты  вкусная к...\n",
       "4       вишневая наливка имеет яркий вишневый вкус кот...\n",
       "                              ...                        \n",
       "3462    для тех кто любит чечевицу вам сюда очень вкус...\n",
       "3463    баклажановые фантазии продолжаются предлагаю в...\n",
       "3464    мое любимое блюдо лазанья но кушать только фар...\n",
       "3465    прошлым летом варила варенье из одуванчиков по...\n",
       "3466     и три корочки хлеба  сделал заказ буратино в ...\n",
       "Name: description, Length: 3467, dtype: object"
      ]
     },
     "execution_count": 211,
     "metadata": {},
     "output_type": "execute_result"
    }
   ],
   "source": [
    "recipes = pd.DataFrame(pd.read_csv('07_nlp_data/ru_recipes_sample.csv'))\n",
    "recipes['description'].replace(r'[^А-Яа-яЁё0-9\\s]', '', regex=True, inplace=True)\n",
    "recipes['description'] = [value.lower() for value in recipes['description']]\n",
    "recipes['description']"
   ]
  },
  {
   "cell_type": "markdown",
   "metadata": {},
   "source": [
    "### Расстояние редактирования"
   ]
  },
  {
   "cell_type": "markdown",
   "metadata": {},
   "source": [
    "2\\. Получите набор уникальных слов `words`, содержащихся в текстах описаний рецептов (воспользуйтесь `word_tokenize` из `nltk`). Сгенерируйте 5 пар случайно выбранных слов и посчитайте между ними расстояние Левенштейна. Выведите на экран результат в следующем виде:\n",
    "\n",
    "```\n",
    "d(word1, word2) = x\n",
    "```"
   ]
  },
  {
   "cell_type": "code",
   "execution_count": 218,
   "metadata": {},
   "outputs": [
    {
     "name": "stdout",
     "output_type": "stream",
     "text": [
      "d(морковь, переложенные) = 10\n",
      "d(заветные, автору) = 5\n",
      "d(песенку, рождественским) = 9\n",
      "d(тушили, совместного) = 11\n",
      "d(блинам, усы) = 6\n"
     ]
    }
   ],
   "source": [
    "data = pd.DataFrame(word_tokenize(\" \".join(recipes['description']))).drop_duplicates()\n",
    "data1 = [data.sample(2).values.tolist() for i in range(5)]\n",
    "for i in data1:\n",
    "    print(f\"d({i[0][0]}, {i[1][0]}) = {lev(i[0][0], i[1][0])}\")\n",
    "\n"
   ]
  },
  {
   "cell_type": "markdown",
   "metadata": {},
   "source": [
    "3\\. Напишите функцию, которая принимает на вход 2 текстовые строки `s1` и `s2` и при помощи расстояния Левенштейна определяет, является ли строка `s2` плагиатом `s1`. Функция должна реализовывать следующую логику: для каждого слова `w1` из `s1` проверяет, есть в `s2` хотя бы одно слово `w2`, такое, что расстояние Левенштейна между `w1` и `w2` меньше 2, и считает количество таких слов в `s1` $P$. \n",
    "\n",
    "$$ P = \\#\\{w_1 \\in s_1\\ | \\exists w_2 \\in s_2 : d(w_1, w_2) < tol\\}$$\n",
    "\n",
    "$$ L = max(|s1|, |s2|) $$\n",
    "\n",
    "Здесь $|\\cdot|$ - количество слов в строке, $\\#A$ - число элементов в множестве $A$, $w \\in s$ означает, что слово $w$ содержится в тексте $s$.\n",
    "\n",
    "Если отношение $P / L$ больше 0.8, то функция должна вернуть True; иначе False.\n",
    "\n",
    "Продемонстрируйте работу вашей функции на примере описаний двух рецептов с ID 135488 и 851934 (ID рецепта - это число, стоящее в конце url рецепта). Выведите на экран описания этих рецептов и результат работы функции."
   ]
  },
  {
   "cell_type": "code",
   "execution_count": 213,
   "metadata": {},
   "outputs": [],
   "source": [
    "def is_plagiarism(s1: str, s2: str) -> bool:\n",
    "    str_1 = word_tokenize(s1)\n",
    "    str_2 = word_tokenize(s2)\n",
    "    Max = max(len(s1), len(s2))\n",
    "    total_lev = []\n",
    "    for word1 in str_1:\n",
    "        count_levenstein = []\n",
    "\n",
    "        for word2 in str_2:\n",
    "            count_levenstein.append(lev(word1, word2))\n",
    "\n",
    "        if 0 in count_levenstein or 1 in count_levenstein:\n",
    "           total_lev.append(1)\n",
    "\n",
    "        else:\n",
    "            total_lev.append(0)\n",
    "\n",
    "    Sum = sum(total_lev)\n",
    "    return True if (Sum / Max) > 0.8 else False"
   ]
  },
  {
   "cell_type": "code",
   "execution_count": 214,
   "metadata": {},
   "outputs": [
    {
     "name": "stdout",
     "output_type": "stream",
     "text": [
      "Необходимые нам индексы таблицы с ID = 135488 и 851934: \n",
      "[958, 1473]\n",
      "url                https://www.povarenok.ru/recipes/show/164365/\n",
      "name                          Густой молочно-клубничный коктейль\n",
      "ingredients    {'Молоко': '250 мл', 'Клубника': '200 г', 'Сах...\n",
      "description    этот коктейль готовлю из замороженной клубники...\n",
      "Name: 0, dtype: object\n",
      "url                  https://www.povarenok.ru/recipes/show/1306/\n",
      "name                                                    Рулетики\n",
      "ingredients    {'Сыр твердый': None, 'Чеснок': None, 'Яйцо ку...\n",
      "description                                      быстро и вкусно\n",
      "Name: 1, dtype: object\n",
      "прекрасной закуской к крепким напиткам на фуршетном столе станет паштет из сала и авокадо с чесноком который мы спрячем в орешках из бородинского хлеба положив в середину маслину закуска получается необычной оригинальной и ценится особенно мужчинами замечательной закуской к напиткам на фуршетном столе станет паштет из сала и авокадо с чесноком куда мы добавим орешков из бородинского хлеба положив в середину маслины закуска получается крайне необычной оригинальной и ценится особенно мужчинами\n",
      "False\n"
     ]
    }
   ],
   "source": [
    "print('Необходимые нам индексы таблицы с ID = 135488 и 851934: ', end='\\n')\n",
    "var = [index for index in range(len(list(recipes['url']))) if (list(recipes['url'])[index].split('/')[-2] == '135488' or list(recipes['url'])[index].split('/')[-2] == '851934')]\n",
    "print(var)\n",
    "print(recipes.iloc[0])\n",
    "print(recipes.iloc[1])\n",
    "print(recipes.iloc[958]['description'], recipes.iloc[1473]['description'])\n",
    "print(is_plagiarism(recipes.iloc[958]['description'], recipes.iloc[1473]['description']))"
   ]
  },
  {
   "cell_type": "markdown",
   "metadata": {},
   "source": [
    "### Стемминг, лемматизация"
   ]
  },
  {
   "cell_type": "markdown",
   "metadata": {},
   "source": [
    "4\\. На основе набора слов из задания 2 создайте `pd.DataFrame` со столбцами `word`, `stemmed_word` и `normalized_word`. В столбец `stemmed_word` поместите версию слова после проведения процедуры стемминга; в столбец `normalized_word` поместите версию слова после проведения процедуры лемматизации. Столбец `word` укажите в качестве индекса. \n",
    "\n",
    "Для стемминга можно воспользоваться `SnowballStemmer` из `nltk`, для лемматизации слов - пакетом `pymorphy2`. Сравните результаты стемминга и лемматизации. Поясните на примере одной из строк получившегося фрейма (в виде текстового комментария), в чем разница между двумя этими подходами. "
   ]
  },
  {
   "cell_type": "code",
   "execution_count": 220,
   "metadata": {},
   "outputs": [
    {
     "data": {
      "text/html": [
       "<div>\n",
       "<style scoped>\n",
       "    .dataframe tbody tr th:only-of-type {\n",
       "        vertical-align: middle;\n",
       "    }\n",
       "\n",
       "    .dataframe tbody tr th {\n",
       "        vertical-align: top;\n",
       "    }\n",
       "\n",
       "    .dataframe thead th {\n",
       "        text-align: right;\n",
       "    }\n",
       "</style>\n",
       "<table border=\"1\" class=\"dataframe\">\n",
       "  <thead>\n",
       "    <tr style=\"text-align: right;\">\n",
       "      <th></th>\n",
       "      <th>stemmed_word</th>\n",
       "      <th>normalized_word</th>\n",
       "    </tr>\n",
       "    <tr>\n",
       "      <th>word</th>\n",
       "      <th></th>\n",
       "      <th></th>\n",
       "    </tr>\n",
       "  </thead>\n",
       "  <tbody>\n",
       "    <tr>\n",
       "      <th>этот</th>\n",
       "      <td>этот</td>\n",
       "      <td>этот</td>\n",
       "    </tr>\n",
       "    <tr>\n",
       "      <th>коктейль</th>\n",
       "      <td>коктейл</td>\n",
       "      <td>коктейль</td>\n",
       "    </tr>\n",
       "    <tr>\n",
       "      <th>готовлю</th>\n",
       "      <td>готовл</td>\n",
       "      <td>готовить</td>\n",
       "    </tr>\n",
       "    <tr>\n",
       "      <th>из</th>\n",
       "      <td>из</td>\n",
       "      <td>из</td>\n",
       "    </tr>\n",
       "    <tr>\n",
       "      <th>замороженной</th>\n",
       "      <td>заморожен</td>\n",
       "      <td>заморозить</td>\n",
       "    </tr>\n",
       "    <tr>\n",
       "      <th>...</th>\n",
       "      <td>...</td>\n",
       "      <td>...</td>\n",
       "    </tr>\n",
       "    <tr>\n",
       "      <th>сбывается</th>\n",
       "      <td>сбыва</td>\n",
       "      <td>сбываться</td>\n",
       "    </tr>\n",
       "    <tr>\n",
       "      <th>подружим</th>\n",
       "      <td>подруж</td>\n",
       "      <td>подружить</td>\n",
       "    </tr>\n",
       "    <tr>\n",
       "      <th>одинаковых</th>\n",
       "      <td>одинаков</td>\n",
       "      <td>одинаковый</td>\n",
       "    </tr>\n",
       "    <tr>\n",
       "      <th>задорных</th>\n",
       "      <td>задорн</td>\n",
       "      <td>задорный</td>\n",
       "    </tr>\n",
       "    <tr>\n",
       "      <th>мальчишек</th>\n",
       "      <td>мальчишек</td>\n",
       "      <td>мальчишка</td>\n",
       "    </tr>\n",
       "  </tbody>\n",
       "</table>\n",
       "<p>16451 rows × 2 columns</p>\n",
       "</div>"
      ],
      "text/plain": [
       "             stemmed_word normalized_word\n",
       "word                                     \n",
       "этот                 этот            этот\n",
       "коктейль          коктейл        коктейль\n",
       "готовлю            готовл        готовить\n",
       "из                     из              из\n",
       "замороженной    заморожен      заморозить\n",
       "...                   ...             ...\n",
       "сбывается           сбыва       сбываться\n",
       "подружим           подруж       подружить\n",
       "одинаковых       одинаков      одинаковый\n",
       "задорных           задорн        задорный\n",
       "мальчишек       мальчишек       мальчишка\n",
       "\n",
       "[16451 rows x 2 columns]"
      ]
     },
     "execution_count": 220,
     "metadata": {},
     "output_type": "execute_result"
    }
   ],
   "source": [
    "morph = pymorphy2.MorphAnalyzer()\n",
    "stemmer = SnowballStemmer(\"russian\")\n",
    "stem_lem_df = pd.DataFrame(columns=['word', 'stemmed_word', 'normalized_word'])\n",
    "stem_lem_df['word'] = [i[0] for i in data.values.tolist()]\n",
    "stem_lem_df['stemmed_word'] = stem_lem_df['word'].apply(lambda x: stemmer.stem(x))\n",
    "stem_lem_df['normalized_word'] = stem_lem_df['word'].apply(lambda x: morph.parse(x)[0].normalized.word)\n",
    "stem_lem_df = stem_lem_df.set_index('word')\n",
    "stem_lem_df"
   ]
  },
  {
   "cell_type": "markdown",
   "metadata": {},
   "source": [
    "5\\. Добавьте в таблицу `recipes` столбец `description_no_stopwords`, в котором содержится текст описания рецепта после удаления из него стоп-слов. Посчитайте и выведите на экран долю стоп-слов среди общего количества слов. Сравните топ-10 самых часто употребляемых слов до и после удаления стоп-слов."
   ]
  },
  {
   "cell_type": "code",
   "execution_count": 217,
   "metadata": {},
   "outputs": [
    {
     "name": "stderr",
     "output_type": "stream",
     "text": [
      "C:\\Users\\Shurik\\AppData\\Local\\Temp\\ipykernel_25508\\2266447829.py:3: FutureWarning: The default value of regex will change from True to False in a future version.\n",
      "  recipes['description_no_stopwords'] = recipes['description'].str.replace(pattern, '')\n"
     ]
    },
    {
     "name": "stdout",
     "output_type": "stream",
     "text": [
      "102978 33223 0.322622307677368\n",
      "[('и', 5054), ('в', 2584), ('с', 1934), ('на', 1655), ('очень', 1607), ('не', 1517), ('из', 1006), ('я', 979), ('рецепт', 869), ('а', 863)]\n",
      "[('очень', 1607), ('рецепт', 869), ('это', 734), ('блюдо', 524), ('вкусный', 461), ('просто', 436), ('вкусно', 375), ('приготовить', 344), ('вкус', 324), ('салат', 313)]\n"
     ]
    }
   ],
   "source": [
    "stops = stopwords.words('russian')\n",
    "pattern = r'\\b(?:{})\\b'.format('|'.join(stops))\n",
    "recipes['description_no_stopwords'] = recipes['description'].str.replace(pattern, '')\n",
    "\n",
    "\n",
    "count_word = Counter(word_tokenize(' '.join(recipes['description'])))\n",
    "count, count_stop = sum(count_word.values()), sum([count_word[x] for x in stops])\n",
    "word_counts_after = Counter(word_tokenize(' '.join(recipes['description_no_stopwords'])))\n",
    "\n",
    "word_count = count_word.most_common(10)\n",
    "word_count_after = word_counts_after.most_common(10)\n",
    "\n",
    "print(count, count_stop, count_stop / count)\n",
    "print(word_count)\n",
    "print(word_count_after)"
   ]
  },
  {
   "cell_type": "markdown",
   "metadata": {},
   "source": [
    "### Векторное представление текста"
   ]
  },
  {
   "cell_type": "markdown",
   "metadata": {},
   "source": [
    "6\\. Выберите случайным образом 5 рецептов из набора данных, в названии которых есть слово \"оладьи\" (без учета регистра). Представьте описание каждого рецепта в виде числового вектора при помощи `TfidfVectorizer`. На основе полученных векторов создайте `pd.DataFrame`, в котором названия колонок соответствуют словам из словаря объекта-векторизатора. \n",
    "\n",
    "Примечание: обратите внимание на порядок слов при создании колонок."
   ]
  },
  {
   "cell_type": "code",
   "execution_count": null,
   "metadata": {},
   "outputs": [],
   "source": [
    "def get_df_vect(sent_words):\n",
    "    cv = TfidfVectorizer(lowercase=True)\n",
    "    cv.fit(sent_words)\n",
    "    return pd.DataFrame([{i: cv.transform(sent_words).toarray()[0][cv.vocabulary_[i]] for i in cv.vocabulary_}])"
   ]
  },
  {
   "cell_type": "code",
   "execution_count": null,
   "metadata": {},
   "outputs": [
    {
     "name": "stdout",
     "output_type": "stream",
     "text": [
      "Рецепт №1\n",
      "    нежные   сочные   оладьи    очень  вкусные\n",
      "0  0.27735  0.27735  0.27735  0.83205  0.27735\n",
      "\n",
      "Рецепт №2\n",
      "        лет  двадцать     назад   покупая       сыр  наткнулась        на  \\\n",
      "0  0.242536  0.121268  0.121268  0.121268  0.121268    0.121268  0.363803   \n",
      "\n",
      "   рекламный    листок     этому  ...       все  ингредиенты   указаны  \\\n",
      "0   0.121268  0.121268  0.121268  ...  0.121268     0.121268  0.121268   \n",
      "\n",
      "        500     грамм     фарша  готовила       три      раза    больше  \n",
      "0  0.121268  0.121268  0.121268  0.121268  0.121268  0.121268  0.121268  \n",
      "\n",
      "[1 rows x 57 columns]\n",
      "\n",
      "Рецепт №3\n",
      "     нежные   вкусные  оладушки      мужу     очень  нравятся\n",
      "0  0.408248  0.408248  0.408248  0.408248  0.408248  0.408248\n",
      "\n",
      "Рецепт №4\n",
      "      супер   быстрый   вариант  завтрака       это      даже   быстрее  \\\n",
      "0  0.316228  0.316228  0.316228  0.316228  0.316228  0.316228  0.316228   \n",
      "\n",
      "        чем   сварить   овсянку  \n",
      "0  0.316228  0.316228  0.316228  \n",
      "\n",
      "Рецепт №5\n",
      "    вкусные    сытные  оладушки     явным    вкусом   жареной      смги\n",
      "0  0.377964  0.377964  0.377964  0.377964  0.377964  0.377964  0.377964\n",
      "\n"
     ]
    }
   ],
   "source": [
    "pancakes = recipes[recipes['name'].str.contains('оладьи')]\n",
    "sample = pancakes.sample(n=5)\n",
    "for i in range(5):\n",
    "    print(f\"Рецепт №{i+1}\")\n",
    "    print(get_df_vect(nltk.sent_tokenize(sample['description'].values[i])), end='\\n\\n')"
   ]
  },
  {
   "cell_type": "markdown",
   "metadata": {},
   "source": [
    "7\\. Вычислите близость между каждой парой рецептов, выбранных в задании 6, используя косинусное расстояние (можно воспользоваться функциями из любого пакета: `scipy`, `scikit-learn` или реализовать функцию самому). Результаты оформите в виде таблицы `pd.DataFrame`. В качестве названий строк и столбцов используйте названия рецептов.\n",
    "\n",
    "Примечание: обратите внимание, что $d_{cosine}(x, x) = 0$"
   ]
  },
  {
   "cell_type": "code",
   "execution_count": null,
   "metadata": {},
   "outputs": [
    {
     "data": {
      "text/html": [
       "<div>\n",
       "<style scoped>\n",
       "    .dataframe tbody tr th:only-of-type {\n",
       "        vertical-align: middle;\n",
       "    }\n",
       "\n",
       "    .dataframe tbody tr th {\n",
       "        vertical-align: top;\n",
       "    }\n",
       "\n",
       "    .dataframe thead th {\n",
       "        text-align: right;\n",
       "    }\n",
       "</style>\n",
       "<table border=\"1\" class=\"dataframe\">\n",
       "  <thead>\n",
       "    <tr style=\"text-align: right;\">\n",
       "      <th></th>\n",
       "      <th>Нежные куриные оладьи</th>\n",
       "      <th>Куриные оладьи с сыром</th>\n",
       "      <th>Тыквенные оладьи</th>\n",
       "      <th>Бананово-кукурузные оладьи</th>\n",
       "      <th>Картофельные оладьи с семгой</th>\n",
       "    </tr>\n",
       "  </thead>\n",
       "  <tbody>\n",
       "    <tr>\n",
       "      <th>Нежные куриные оладьи</th>\n",
       "      <td>0.000000</td>\n",
       "      <td>0.100901</td>\n",
       "      <td>0.566139</td>\n",
       "      <td>0.000000</td>\n",
       "      <td>0.104828</td>\n",
       "    </tr>\n",
       "    <tr>\n",
       "      <th>Куриные оладьи с сыром</th>\n",
       "      <td>0.100901</td>\n",
       "      <td>0.000000</td>\n",
       "      <td>0.099015</td>\n",
       "      <td>0.038348</td>\n",
       "      <td>0.091670</td>\n",
       "    </tr>\n",
       "    <tr>\n",
       "      <th>Тыквенные оладьи</th>\n",
       "      <td>0.566139</td>\n",
       "      <td>0.099015</td>\n",
       "      <td>0.000000</td>\n",
       "      <td>0.000000</td>\n",
       "      <td>0.308607</td>\n",
       "    </tr>\n",
       "    <tr>\n",
       "      <th>Бананово-кукурузные оладьи</th>\n",
       "      <td>0.000000</td>\n",
       "      <td>0.038348</td>\n",
       "      <td>0.000000</td>\n",
       "      <td>0.000000</td>\n",
       "      <td>0.000000</td>\n",
       "    </tr>\n",
       "    <tr>\n",
       "      <th>Картофельные оладьи с семгой</th>\n",
       "      <td>0.104828</td>\n",
       "      <td>0.091670</td>\n",
       "      <td>0.308607</td>\n",
       "      <td>0.000000</td>\n",
       "      <td>0.000000</td>\n",
       "    </tr>\n",
       "  </tbody>\n",
       "</table>\n",
       "</div>"
      ],
      "text/plain": [
       "                              Нежные куриные оладьи  Куриные оладьи с сыром  \\\n",
       "Нежные куриные оладьи                      0.000000                0.100901   \n",
       "Куриные оладьи с сыром                     0.100901                0.000000   \n",
       "Тыквенные оладьи                           0.566139                0.099015   \n",
       "Бананово-кукурузные оладьи                 0.000000                0.038348   \n",
       "Картофельные оладьи с семгой               0.104828                0.091670   \n",
       "\n",
       "                              Тыквенные оладьи  Бананово-кукурузные оладьи  \\\n",
       "Нежные куриные оладьи                 0.566139                    0.000000   \n",
       "Куриные оладьи с сыром                0.099015                    0.038348   \n",
       "Тыквенные оладьи                      0.000000                    0.000000   \n",
       "Бананово-кукурузные оладьи            0.000000                    0.000000   \n",
       "Картофельные оладьи с семгой          0.308607                    0.000000   \n",
       "\n",
       "                              Картофельные оладьи с семгой  \n",
       "Нежные куриные оладьи                             0.104828  \n",
       "Куриные оладьи с сыром                            0.091670  \n",
       "Тыквенные оладьи                                  0.308607  \n",
       "Бананово-кукурузные оладьи                        0.000000  \n",
       "Картофельные оладьи с семгой                      0.000000  "
      ]
     },
     "execution_count": 206,
     "metadata": {},
     "output_type": "execute_result"
    }
   ],
   "source": [
    "sample_desc = [sample.iloc[x]['description'] for x in range(5)]\n",
    "vector = CountVectorizer().fit_transform(sample_desc).toarray()\n",
    "df_pancakes = pd.DataFrame(cosine_similarity(vector), columns=sample['name'].values, index=sample['name'].values)\n",
    "for i in range(5):\n",
    "    df_pancakes.iloc[i][i] = 0\n",
    "df_pancakes\n"
   ]
  },
  {
   "cell_type": "markdown",
   "metadata": {},
   "source": [
    "8\\. Напишите функцию, которая принимает на вход `pd.DataFrame`, полученный в задании 7, и возвращает в виде кортежа названия двух различных рецептов, которые являются наиболее похожими. Прокомментируйте результат (в виде текстового комментария). Для объяснения результата сравните слова в описаниях двух этих отзывов."
   ]
  },
  {
   "cell_type": "code",
   "execution_count": null,
   "metadata": {},
   "outputs": [
    {
     "name": "stdout",
     "output_type": "stream",
     "text": [
      "0.566138517072298\n"
     ]
    },
    {
     "data": {
      "text/plain": [
       "('Нежные куриные оладьи', 'Тыквенные оладьи')"
      ]
     },
     "execution_count": 207,
     "metadata": {},
     "output_type": "execute_result"
    }
   ],
   "source": [
    "def find_closest(sim_df: pd.DataFrame) -> tuple:\n",
    "    print(sim_df[sim_df == sim_df.max().max()].stack().values[0])\n",
    "    return sim_df[sim_df == sim_df.max().max()].stack().index.tolist()[0]\n",
    "find_closest(df_pancakes)"
   ]
  },
  {
   "cell_type": "code",
   "execution_count": null,
   "metadata": {},
   "outputs": [
    {
     "name": "stdout",
     "output_type": "stream",
     "text": [
      "0.566138517072298\n",
      "0.566138517072298\n",
      "нежные сочные оладьи и очень очень очень вкусные\n",
      "нежные вкусные оладушки  мужу очень нравятся\n"
     ]
    }
   ],
   "source": [
    "print(\n",
    "    sample[sample['name']==find_closest(df_pancakes)[0]]['description'].values[0],\n",
    "    sample[sample['name']==find_closest(df_pancakes)[1]]['description'].values[0],\n",
    "    sep=\"\\n\"\n",
    "    )"
   ]
  }
 ],
 "metadata": {
  "kernelspec": {
   "display_name": "Python 3",
   "language": "python",
   "name": "python3"
  },
  "language_info": {
   "codemirror_mode": {
    "name": "ipython",
    "version": 3
   },
   "file_extension": ".py",
   "mimetype": "text/x-python",
   "name": "python",
   "nbconvert_exporter": "python",
   "pygments_lexer": "ipython3",
   "version": "3.10.5 (tags/v3.10.5:f377153, Jun  6 2022, 16:14:13) [MSC v.1929 64 bit (AMD64)]"
  },
  "vscode": {
   "interpreter": {
    "hash": "4fb5760d01c9e18acbf19ac0fe4dc93afe13fe6f69b1d13f8c2e3646eb7acd70"
   }
  }
 },
 "nbformat": 4,
 "nbformat_minor": 4
}
