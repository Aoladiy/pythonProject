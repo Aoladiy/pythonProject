{
 "cells": [
  {
   "cell_type": "markdown",
   "metadata": {},
   "source": [
    "# Работа со строковыми значениями"
   ]
  },
  {
   "cell_type": "markdown",
   "metadata": {},
   "source": [
    "__Автор задач: Блохин Н.В. (NVBlokhin@fa.ru)__\n",
    "\n",
    "Материалы:\n",
    "* Макрушин С.В. Лекция \"Работа со строковыми значениям\"\n",
    "* https://pyformat.info/\n",
    "* https://docs.python.org/3/library/re.html\n",
    "    * https://docs.python.org/3/library/re.html#flags\n",
    "    * https://docs.python.org/3/library/re.html#functions\n",
    "* https://pythonru.com/primery/primery-primeneniya-regulyarnyh-vyrazheniy-v-python\n",
    "* https://kanoki.org/2019/11/12/how-to-use-regex-in-pandas/\n",
    "* https://realpython.com/nltk-nlp-python/"
   ]
  },
  {
   "cell_type": "markdown",
   "metadata": {},
   "source": [
    "## Задачи для совместного разбора"
   ]
  },
  {
   "cell_type": "markdown",
   "metadata": {},
   "source": [
    "1. Вывести на экран данные из словаря `obj` построчно в виде `k = v`, задав формат таким образом, чтобы знак равенства оказался на одной и той же позиции во всех строках. Строковые литералы обернуть в кавычки."
   ]
  },
  {
   "cell_type": "code",
   "execution_count": 11,
   "metadata": {},
   "outputs": [],
   "source": [
    "import re\n",
    "import pandas as pd\n",
    "from bs4 import BeautifulSoup\n",
    "import nltk\n",
    "obj = {\n",
    "    \"home_page\": \"https://github.com/pypa/sampleproject\",\n",
    "    \"keywords\": \"sample setuptools development\",\n",
    "    \"license\": \"MIT\",\n",
    "}"
   ]
  },
  {
   "cell_type": "markdown",
   "metadata": {},
   "source": [
    "2. Написать регулярное выражение,которое позволит найти номера групп студентов."
   ]
  },
  {
   "cell_type": "code",
   "execution_count": 12,
   "metadata": {},
   "outputs": [
    {
     "data": {
      "text/plain": "0    Евгения гр.ПМ19-1\n1         Илья пм 20-4\n2            Анна 20-3\ndtype: object"
     },
     "execution_count": 12,
     "metadata": {},
     "output_type": "execute_result"
    }
   ],
   "source": [
    "obj = pd.Series([\"Евгения гр.ПМ19-1\", \"Илья пм 20-4\", \"Анна 20-3\"])\n",
    "obj"
   ]
  },
  {
   "cell_type": "markdown",
   "metadata": {},
   "source": [
    "3. Разбейте текст формулировки задачи 2 на слова."
   ]
  },
  {
   "cell_type": "markdown",
   "metadata": {},
   "source": [
    "---\n",
    "## Лабораторная работа 6.1"
   ]
  },
  {
   "cell_type": "markdown",
   "metadata": {},
   "source": [
    "### Форматирование строк"
   ]
  },
  {
   "cell_type": "markdown",
   "metadata": {},
   "source": [
    "6\\.1\\.1\\. Загрузите данные из файла `recipes_sample.csv` (__ЛР2__) в виде `pd.DataFrame` `recipes` При помощи форматирования строк выведите информацию об id рецепта и времени выполнения 5 случайных рецептов в виде таблицы следующего вида:\n",
    "\n",
    "    \n",
    "    |      id      |  minutes  |\n",
    "    |--------------------------|\n",
    "    |    61178     |    65     |\n",
    "    |    202352    |    80     |\n",
    "    |    364322    |    150    |\n",
    "    |    26177     |    20     |\n",
    "    |    224785    |    35     |\n",
    "    \n",
    "Обратите внимание, что ширина столбцов заранее неизвестна и должна рассчитываться динамически, в зависимости от тех данных, которые были выбраны. "
   ]
  },
  {
   "cell_type": "code",
   "execution_count": 13,
   "outputs": [
    {
     "name": "stdout",
     "output_type": "stream",
     "text": [
      "Задание 6.1.1\n",
      "|   id    | minutes |\n",
      "|-------------------|\n",
      "| 121014  |   45    |\n",
      "| 265305  |   70    |\n",
      "| 458158  |   15    |\n",
      "| 175109  |   17    |\n",
      "| 257638  |   20    |\n"
     ]
    }
   ],
   "source": [
    "import re\n",
    "import pandas as pd\n",
    "from bs4 import BeautifulSoup\n",
    "# Task 6.1.1\n",
    "print(\"Задание 6.1.1\")\n",
    "\n",
    "recipes = pd.read_csv(\"../data/recipes_sample.csv\")\n",
    "\n",
    "id = recipes.id.sample(n=5).to_list()\n",
    "minutes = recipes.minutes.sample(n=5).to_list()\n",
    "\n",
    "wide = 0\n",
    "for i in range(max(len(id), len(minutes))):\n",
    "    t = max(len(str(id[i])), len(str(minutes[i])))\n",
    "    if wide < t:\n",
    "        wide = t\n",
    "wide += 3\n",
    "\n",
    "print(f\"|{'id':^{wide}}|{'minutes':^{wide}}|\")\n",
    "print(\"|\" + \"-\"*(wide*2 + 1) + \"|\")\n",
    "for i in range(5):\n",
    "    print(f\"|{id[i]: ^{wide}}|{minutes[i]: ^{wide}}|\")"
   ],
   "metadata": {
    "collapsed": false,
    "pycharm": {
     "name": "#%%\n"
    }
   }
  },
  {
   "cell_type": "markdown",
   "metadata": {},
   "source": [
    "6\\.1\\.2\\. Напишите функцию `show_info`, которая по данным о рецепте создает строку (в смысле объекта python) с описанием следующего вида:\n",
    "\n",
    "```\n",
    "\"Название Из Нескольких Слов\"\n",
    "\n",
    "1. Шаг 1\n",
    "2. Шаг 2\n",
    "----------\n",
    "Автор: contributor_id\n",
    "Среднее время приготовления: minutes минут\n",
    "```\n",
    "\n",
    "    \n",
    "Данные для создания строки получите из файлов `recipes_sample.csv` (__ЛР2__) и `steps_sample.xml` (__ЛР3__). \n",
    "Вызовите данную функцию для рецепта с id `170895` и выведите (через `print`) полученную строку на экран."
   ]
  },
  {
   "cell_type": "markdown",
   "source": [],
   "metadata": {
    "collapsed": false
   }
  },
  {
   "cell_type": "code",
   "execution_count": 14,
   "outputs": [
    {
     "name": "stdout",
     "output_type": "stream",
     "text": [
      "Задание 6.1.2\n",
      "\"Leeks And Parsnips  Sauteed Or Creamed\"\n",
      "\n",
      "1. Clean the leeks and discard the dark green portions\n",
      "2. Cut the leeks lengthwise then into one-inch pieces\n",
      "3. Melt the butter in a medium skillet , med\n",
      "4. Heat\n",
      "5. Add the garlic and fry 'til fragrant\n",
      "6. Add leeks and fry until the leeks are tender , about 6-minutes\n",
      "7. Meanwhile , peel and chunk the parsnips into one-inch pieces\n",
      "8. Place in a steaming basket and steam 'til they are as tender as you prefer\n",
      "9. I like them fork-tender\n",
      "10. Drain parsnips and add to the skillet with the leeks\n",
      "11. Add salt and pepper\n",
      "12. Gently sautee together for 5-minutes\n",
      "13. At this point you can serve it , or continue on and cream it:\n",
      "14. In a jar with a screw top , add the half-n-half and arrowroot\n",
      "15. Shake 'til blended\n",
      "16. Turn heat to low under the leeks and parsnips\n",
      "17. Pour in the arrowroot mixture , stirring gently as you pour\n",
      "18. If too thick , gradually add the water\n",
      "19. Let simmer for a couple of minutes\n",
      "20. Taste to adjust seasoning , probably an additional 1 / 2 teaspoon salt\n",
      "21. Serve warm\n",
      "----------\n",
      "Автор: 8377\n",
      "Среднее время приготовления: 27 минут\n"
     ]
    }
   ],
   "source": [
    "# Task 6.1.2\n",
    "print(\"Задание 6.1.2\")\n",
    "\n",
    "\n",
    "def show_info(recipe_id=-1, is_step=False):\n",
    "    result_str = ''\n",
    "    recipes = pd.read_csv('../data/recipes_sample.csv')\n",
    "    data = recipes[recipes['id'] == recipe_id]\n",
    "\n",
    "    if recipe_id != -1:\n",
    "        name = data['name'].item()\n",
    "        with open('../data/steps_sample.xml', 'r') as fp:\n",
    "            steps = BeautifulSoup(fp, 'xml')\n",
    "            for recipe in steps.find_all('recipe'):\n",
    "                if recipe.find(\"id\").text == str(recipe_id):\n",
    "                    steps_str = [step.text for step in recipe.find_all('step')]\n",
    "                    break\n",
    "\n",
    "    result_str += '\"' + name.title() + '\"\\n\\n'\n",
    "\n",
    "    for index in range(len(steps_str)):\n",
    "        result_str += str(index + 1) + '. ' + steps_str[index].capitalize() + '\\n'\n",
    "\n",
    "    result_str += 10 * \"-\" + \"\\nАвтор: \" + str(data['contributor_id'].item()) + '\\nСреднее время приготовления: ' + str(\n",
    "        data[\"minutes\"].item()) + \" минут\"\n",
    "\n",
    "    if is_step:\n",
    "        return steps_str\n",
    "    else:\n",
    "        return result_str\n",
    "print(show_info(170895))"
   ],
   "metadata": {
    "collapsed": false,
    "pycharm": {
     "name": "#%%\n"
    }
   }
  },
  {
   "cell_type": "code",
   "execution_count": 15,
   "outputs": [
    {
     "ename": "TypeError",
     "evalue": "show_info() got an unexpected keyword argument 'name'",
     "output_type": "error",
     "traceback": [
      "\u001B[1;31m---------------------------------------------------------------------------\u001B[0m",
      "\u001B[1;31mTypeError\u001B[0m                                 Traceback (most recent call last)",
      "Cell \u001B[1;32mIn [15], line 2\u001B[0m\n\u001B[0;32m      1\u001B[0m \u001B[38;5;28;01massert\u001B[39;00m (\n\u001B[1;32m----> 2\u001B[0m     \u001B[43mshow_info\u001B[49m\u001B[43m(\u001B[49m\n\u001B[0;32m      3\u001B[0m \u001B[43m        \u001B[49m\u001B[43mname\u001B[49m\u001B[38;5;241;43m=\u001B[39;49m\u001B[38;5;124;43m\"\u001B[39;49m\u001B[38;5;124;43mgeorge s at the cove black bean soup\u001B[39;49m\u001B[38;5;124;43m\"\u001B[39;49m\u001B[43m,\u001B[49m\n\u001B[0;32m      4\u001B[0m \u001B[43m        \u001B[49m\u001B[43msteps\u001B[49m\u001B[38;5;241;43m=\u001B[39;49m\u001B[43m[\u001B[49m\n\u001B[0;32m      5\u001B[0m \u001B[43m            \u001B[49m\u001B[38;5;124;43m\"\u001B[39;49m\u001B[38;5;124;43mclean the leeks and discard the dark green portions\u001B[39;49m\u001B[38;5;124;43m\"\u001B[39;49m\u001B[43m,\u001B[49m\n\u001B[0;32m      6\u001B[0m \u001B[43m            \u001B[49m\u001B[38;5;124;43m\"\u001B[39;49m\u001B[38;5;124;43mcut the leeks lengthwise then into one-inch pieces\u001B[39;49m\u001B[38;5;124;43m\"\u001B[39;49m\u001B[43m,\u001B[49m\n\u001B[0;32m      7\u001B[0m \u001B[43m            \u001B[49m\u001B[38;5;124;43m\"\u001B[39;49m\u001B[38;5;124;43mmelt the butter in a medium skillet , med\u001B[39;49m\u001B[38;5;124;43m\"\u001B[39;49m\u001B[43m,\u001B[49m\n\u001B[0;32m      8\u001B[0m \u001B[43m        \u001B[49m\u001B[43m]\u001B[49m\u001B[43m,\u001B[49m\n\u001B[0;32m      9\u001B[0m \u001B[43m        \u001B[49m\u001B[43mminutes\u001B[49m\u001B[38;5;241;43m=\u001B[39;49m\u001B[38;5;241;43m90\u001B[39;49m\u001B[43m,\u001B[49m\n\u001B[0;32m     10\u001B[0m \u001B[43m        \u001B[49m\u001B[43mauthor_id\u001B[49m\u001B[38;5;241;43m=\u001B[39;49m\u001B[38;5;241;43m35193\u001B[39;49m\u001B[43m,\u001B[49m\n\u001B[0;32m     11\u001B[0m \u001B[43m    \u001B[49m\u001B[43m)\u001B[49m\n\u001B[0;32m     12\u001B[0m     \u001B[38;5;241m==\u001B[39m \u001B[38;5;124m'\u001B[39m\u001B[38;5;124m\"\u001B[39m\u001B[38;5;124mGeorge S At The Cove Black Bean Soup\u001B[39m\u001B[38;5;124m\"\u001B[39m\u001B[38;5;130;01m\\n\u001B[39;00m\u001B[38;5;130;01m\\n\u001B[39;00m\u001B[38;5;124m1. Clean the leeks and discard the dark green portions\u001B[39m\u001B[38;5;130;01m\\n\u001B[39;00m\u001B[38;5;124m2. Cut the leeks lengthwise then into one-inch pieces\u001B[39m\u001B[38;5;130;01m\\n\u001B[39;00m\u001B[38;5;124m3. Melt the butter in a medium skillet , med\u001B[39m\u001B[38;5;130;01m\\n\u001B[39;00m\u001B[38;5;124m----------\u001B[39m\u001B[38;5;130;01m\\n\u001B[39;00m\u001B[38;5;124mАвтор: 35193\u001B[39m\u001B[38;5;130;01m\\n\u001B[39;00m\u001B[38;5;124mСреднее время приготовления: 90 минут\u001B[39m\u001B[38;5;130;01m\\n\u001B[39;00m\u001B[38;5;124m'\u001B[39m\n\u001B[0;32m     13\u001B[0m )\n",
      "\u001B[1;31mTypeError\u001B[0m: show_info() got an unexpected keyword argument 'name'"
     ]
    }
   ],
   "source": [
    "assert (\n",
    "    show_info(\n",
    "        name=\"george s at the cove black bean soup\",\n",
    "        steps=[\n",
    "            \"clean the leeks and discard the dark green portions\",\n",
    "            \"cut the leeks lengthwise then into one-inch pieces\",\n",
    "            \"melt the butter in a medium skillet , med\",\n",
    "        ],\n",
    "        minutes=90,\n",
    "        author_id=35193,\n",
    "    )\n",
    "    == '\"George S At The Cove Black Bean Soup\"\\n\\n1. Clean the leeks and discard the dark green portions\\n2. Cut the leeks lengthwise then into one-inch pieces\\n3. Melt the butter in a medium skillet , med\\n----------\\nАвтор: 35193\\nСреднее время приготовления: 90 минут\\n'\n",
    ")"
   ],
   "metadata": {
    "collapsed": false,
    "pycharm": {
     "name": "#%%\n"
    }
   }
  },
  {
   "cell_type": "markdown",
   "metadata": {},
   "source": [
    "## Работа с регулярными выражениями"
   ]
  },
  {
   "cell_type": "markdown",
   "metadata": {},
   "source": [
    "6\\.1\\.3\\. Напишите регулярное выражение, которое ищет следующий паттерн в строке: число (1 цифра или более), затем пробел, затем слова: hour или hours или minute или minutes. Произведите поиск по данному регулярному выражению в каждом шаге рецепта с id 25082. Выведите на экран все непустые результаты, найденные по данному шаблону."
   ]
  },
  {
   "cell_type": "code",
   "execution_count": null,
   "outputs": [],
   "source": [
    "# Task 6.1.3\n",
    "print(\"задание 6.1.3\")\n",
    "recipes = pd.read_csv('../data/recipes_sample.csv')\n",
    "data = show_info(25082, is_step=True)\n",
    "pattern = re.compile(r\"([\\d]+ hour[s]*|[\\d]+ minute[s]*)\")\n",
    "print(pattern.findall('\\n'.join(data)))"
   ],
   "metadata": {
    "collapsed": false,
    "pycharm": {
     "name": "#%%\n"
    }
   }
  },
  {
   "cell_type": "markdown",
   "metadata": {},
   "source": [
    "6\\.1\\.4\\. Напишите регулярное выражение, которое ищет шаблон вида \"this..., but\" _в начале строки_ . Между словом \"this\" и частью \", but\" может находиться произвольное число букв, цифр, знаков подчеркивания и пробелов. Никаких других символов вместо многоточия быть не может. Пробел между запятой и словом \"but\" может присутствовать или отсутствовать.\n",
    "\n",
    "Используя строковые методы `pd.Series`, выясните, для каких рецептов данный шаблон содержится в тексте описания. Выведите на экран количество таких рецептов и 3 примера подходящих описаний (текст описания должен быть виден на экране полностью)."
   ]
  },
  {
   "cell_type": "code",
   "execution_count": null,
   "outputs": [],
   "source": [
    "# Task 6.1.4\n",
    "print(\"Задание 6.1.4\")\n",
    "pattern = re.compile(r\"^this.*[,] ?but\")\n",
    "data = pd.Series(recipes.description).dropna()\n",
    "after_pattern = data.str.match(pattern)\n",
    "print(after_pattern.sum())\n",
    "print(data[after_pattern].sample(n=3))"
   ],
   "metadata": {
    "collapsed": false,
    "pycharm": {
     "name": "#%%\n"
    }
   }
  },
  {
   "cell_type": "markdown",
   "metadata": {},
   "source": [
    "## Лабораторная работа 6.2"
   ]
  },
  {
   "cell_type": "markdown",
   "metadata": {},
   "source": [
    "6\\.2\\.1\\. В текстах шагов рецептов обыкновенные дроби имеют вид \"a / b\". Используя регулярные выражения, уберите в тексте шагов рецепта с id 72367 пробелы до и после символа дроби. Выведите на экран шаги этого рецепта после их изменения."
   ]
  },
  {
   "cell_type": "code",
   "execution_count": 16,
   "outputs": [
    {
     "name": "stdout",
     "output_type": "stream",
     "text": [
      "Задание 6.2.1\n",
      "before: ['mix butter , flour , 1 / 3 c', 'sugar and 1-1 / 4 t', 'vanilla', 'press into greased 9\" springform pan', 'mix cream cheese , 1 / 4 c', 'sugar , eggs and 1 / 2 t', 'vanilla beating until fluffy', 'pour over dough', 'combine apples , 1 / 3 c', 'sugar and cinnamon', 'arrange on top of cream cheese mixture and sprinkle with almonds', 'bake at 350 for 45-55 minutes , or until tester comes out clean']\n",
      "after: ['mix butter , flour , 1/3 c', 'sugar and 1-1/4 t', 'vanilla', 'press into greased 9\" springform pan', 'mix cream cheese , 1/4 c', 'sugar , eggs and 1/2 t', 'vanilla beating until fluffy', 'pour over dough', 'combine apples , 1/3 c', 'sugar and cinnamon', 'arrange on top of cream cheese mixture and sprinkle with almonds', 'bake at 350 for 45-55 minutes , or until tester comes out clean']\n"
     ]
    }
   ],
   "source": [
    "# Task 6.2.1\n",
    "print(\"Задание 6.2.1\")\n",
    "with open(\"../data/steps_sample.xml\") as file:\n",
    "    recipes_xml = BeautifulSoup(file, \"xml\")\n",
    "    lst = []\n",
    "    pattern = re.compile(r\"[0-9] / [0-9]\")\n",
    "    for i in recipes_xml.recipes.find_all(\"recipe\"):\n",
    "        if i.id.contents[0] == \"72367\":\n",
    "            steps = i.find_all(\"step\")\n",
    "            for j in steps:\n",
    "                lst.append(\" \".join(j.contents))\n",
    "            print(\"before:\", lst)\n",
    "            for z in range(len(lst)):\n",
    "                t = re.findall(pattern, lst[z])\n",
    "                if t:\n",
    "                    t_without_spaces = t[0].replace(' ', '')\n",
    "                    lst[z] = lst[z].replace(t[0], t_without_spaces)\n",
    "            print(\"after:\", lst)"
   ],
   "metadata": {
    "collapsed": false,
    "pycharm": {
     "name": "#%%\n"
    }
   }
  },
  {
   "cell_type": "markdown",
   "metadata": {},
   "source": [
    "### Сегментация текста"
   ]
  },
  {
   "cell_type": "markdown",
   "metadata": {},
   "source": [
    "6\\.2\\.2\\. Разбейте тексты шагов рецептов на слова при помощи пакета `nltk`. Посчитайте и выведите на экран кол-во уникальных слов среди всех рецептов. Словом называется любая последовательность алфавитных символов (для проверки можно воспользоваться `str.isalpha`). При подсчете количества уникальных слов не учитывайте регистр."
   ]
  },
  {
   "cell_type": "code",
   "execution_count": 17,
   "outputs": [
    {
     "name": "stdout",
     "output_type": "stream",
     "text": [
      "Задание 6.2.2\n",
      "14922\n"
     ]
    }
   ],
   "source": [
    "# Task 6.2.2\n",
    "print(\"Задание 6.2.2\")\n",
    "with open('../data/steps_sample.xml') as file:\n",
    "    recipes_xml = BeautifulSoup(file, 'xml')\n",
    "    set_w = set()\n",
    "    for i in recipes_xml.find_all('recipe'):\n",
    "        set_w.update(nltk.word_tokenize(i.steps.text))\n",
    "    set_wo = set_w.copy()\n",
    "    for i in set_wo:\n",
    "        if i.isalpha() == False:\n",
    "            set_w.remove(i)\n",
    "    print(len(set_w))"
   ],
   "metadata": {
    "collapsed": false,
    "pycharm": {
     "name": "#%%\n"
    }
   }
  },
  {
   "cell_type": "markdown",
   "metadata": {},
   "source": [
    "6\\.2\\.3\\. Разбейте описания рецептов из `recipes` на предложения при помощи пакета `nltk`. Найдите 5 самых длинных описаний (по количеству _предложений_) рецептов в датасете и выведите строки фрейма, соответствующие этим рецептами, в порядке убывания длины."
   ]
  },
  {
   "cell_type": "code",
   "execution_count": 18,
   "outputs": [
    {
     "name": "stdout",
     "output_type": "stream",
     "text": [
      "Задание 6.2.3\n",
      "Length: 76 ['this wonderful icing is used for icing cakes and cookies as well as for borders and art work on cakes.', 'it makes a delicious filling also between the layers of cakes and under fondant icing.', 'you can make roses but it takes 3 or more days to dry them depending on the humidity.', 'there are many versions of “buttercream” icing.', 'some are made with eggs and all butter.', 'some varieties, you have to cook your sugar to a softball stage.', 'others are 100% shortening or a combination of shortening and butter.', 'each decorator has his or her favorite.', 'i personally think that the best taste and textured recipe is the one that has you cook your sugar, add to whipped eggs and use pounds of butter per batch.', 'but….', 'i live in a state that can easily be a 100 degrees for days on end during the summer and you know what butter does on hot days.', 'it melts!', 'a greasy puddle of melted icing on a cake plate is not something i want to look at or eat.', 'your top notch decorators have a few options we don’t.', 'they have huge refrigerators to store their cakes in, and refrigerated vehicles that they can use to deliver decorated cakes.', 'i even know a few that refuse to deliver at all.', 'if you want their cake, you come and get it and it’s your responsibility if it melts.', 'these decorators don’t even turn on their ovens for a wedding cake for less than $2000.', 'the following recipes for buttercream icing hold up pretty well in the heat and humidity, but if you know that your cake will be out in very high temperatures, then don’t use any butter and use only a high quality shortening.', 'shortening:  \\r\\n\\r\\nsolid shortenings definitely have their place in baking.', 'so i’m going to talk taste tests.', 'crisco is the hands down winner.', 'it has a clean taste with the melting point of 106 degrees.', 'butter melts somewhere between 88 and 98 degrees f. depending on the amount of fat in the brand.', 'you can see that if you need to serve a pure buttercream decorated cake, on a hot august afternoon, you could have melted roses (and i do mean greasy puddles) on the tablecloth.', 'this is when a good quality shortening will be a great blessing.', 'i have been told by decorator friends that some of the warehouse brand shortenings leave a grainy consistency to the icing no matter what you do.', \"powdered (confectioner's) sugar:  \\r\\n\\r\\nregarding powdered sugar.\", 'please use a cane sugar.', 'i prefer c&h powdered (confectioners) sugar.', 'many of the cheaper brands use sugar beets for their base.', 'i don’t know the chemistry behind it but you definitely get different textures to your icing that can vary from batch to batch.', 'i spent a few months being very frustrated with the quality of my icing until a kind lady did a bit of trouble shooting for me.', 'she recommended the cane sugar and i’ve been blessing her ever since.', 'top-quality brands:  \\r\\n\\r\\nplease be safe, buy a quality brands and then stick with it for the best results.', 'a friend of mine, who is a wonderful cook and baker, travels a lot and she often prepares treats for her hosts.', 'she’s learned to ask the host to have her favorite shortening and flour on hand.', 'she has even made up a little makeup type case that carries her favorite extracts and precious spices.', 'that way she knows what she is working with, how it handles, and what tastes she can expect for the finished product.', 'some surprises are not pleasant.', 'storing buttercream icing: \\r\\n\\r\\nif you are not going to be using the icing right away, place it in a clean, sealable bowl.', 'store it in the refrigerator but please don’t place it next to the marinating salmon, garlic or broccoli.', 'you do not want those flavors in your icing!', 'i like to use my icing within a few days but it will hold in the cold refrigerator for a couple of weeks if necessary.', 'i often make a double batch of icing the night before i have a baking project.', 'that way i know that i have plenty of icing, it’s fresh and i don’t have to make it while i’m in the middle of baking the cakes.', 'the extra can always be used for a batch of cupcakes.', 'when you remove the icing from the refrigerator, you might notice that the icing has taken on a sponge like texture.', 'do yourself a favor and place the icing in a bowl and mix by hand using a back and forth, smashing motion with a spoon or icing spatula.', 'what you want to do is to smash the bubbles out of the icing.', 'this extra step will help to give you the smoothest icing for a pretty top and sides of the cake.', 'i have found that you will get an even better texture of icing if it is at room temperature before you try to do your icing.', 'bad buttercream icing days:  \\r\\n\\r\\none thing that seems very silly but is true.', 'there are bad buttercream days!', 'i’ve asked quite a few decorators about this and every one says “yes, there are lousy days”.', 'i’m not sure what causes the problem.', 'it could be that every human has bad days so they blame the buttercream.', 'it may be the humidity or that there is a low pressure system hanging over your town.', 'i just know why but it is a perceived fact.', 'the way i have handled the problem is that i changed the decoration on the cake.', 'i couldn’t get the smooth top or sides as i originally planned.', 'writing a greeting on a messy top would look awful so i changed the design idea and put flowers everywhere.', 'i could have also done a basket weave technique around the sides.', 'just go with the flow, and don’t get frustrated.', 'aunt martha won’t chuck the cake at you if you don’t write her name on the top this time.', 'remember that you are creating something that is to be eaten so have fun with it.', 'different mixers:\\r\\n\\r\\nif you have a heavy duty counter mixer, you can prepare a whole batch at one time.', 'if you are using a hand mixer, divide the recipe in half.', 'if you notice the mixer getting hot, please stop and let the machine cool off.', 'i also prefer to mix the buttercream on a low setting.', 'it seems that the higher setting do the job faster but you also will get a spongy texture to the icing.', 'i don’t want that quality in my final ice coating or flowers on the cake.', 'using weight scales:\\r\\n\\r\\n1 cup of crisco weighs 6 ounces.', 'i put a piece of wax paper on my scale and start plopping spoons of shortening on until i get the desired weight.', 'it really saves on the cleanup.', 'recipe from peggy at whatscookingamerica.net']\n",
      "Length: 27 ['a translucent golden-brown crust allows the green of the avocado to be seen.', 'the crispy exterior is a counterpoint to the unctuous interior.', 'these are a signature dish for me, and the one i most often get requests to make (although my seafood and ricotta stuffed buckwheat pancakes run a close second).', 'these fritters came about ten years ago when i was shopping for a dinner i was making for a friend who is a cia-trained chef.', 'i was in a vegetable market and saw these gorgeous avocados that i just knew would be ripe in the next two days.', 'i tried to think of what i could do with them since a) everyone serves cold avocado, and b) i really am not fond of guacamole.', \"as i tried to think of what i could make with them that was hot, the work 'fritters' jumped into my head.\", 'having never made a fritter before, i was a little surprised to have that thought; but having never known when a vegetable was going to be ripe before i figured i was on a roll and decided to go for it.', 'to serve with my never-before-tried-fritters, i decided to make a crème fraîche-lime-cayenne dipping sauce.', \"so i made fresh crème fraîche, and used it as a base not only for this dip, but for a tia maria sauce to go with the flourless chocolate cake i made for dessert (another never-before made item, but with the recipe from cook's illustrated it was the only thing i wasn't making up as i went along).\", 'the result of the fritters was that i got to taste the test fritter, then had to dive across the couch before the last one was devoured in order to have a second.', 'the one evolution in the recipe is the change from cayenne to chipotle in the dip.', 'i like the smokiness, and it gives a rough edge to something very smooth - i am all about contrast.', 'feel free to use whatever chile or combination thereof that you like best.', \"this dip is easy and stands on it's own at a party for anything you want to dip into it.\", 'i have also made it with vegan sour cream with great results.', 'the name alligator claws comes from an alternate name for the avocado: the alligator pear, as well as the fact that the wedges of avocado look like claws.', \"(for those not familiar with the name alligator pear, it derives from both the tough, textured exterior - reminiscent of an alligator's hide, and the fact that you really can't eat one until it softens - just like a pear.)\", \"alligator claws are also a great name to call them if you have kids who either won't eat anything that sounds weird and you want to keep them to yourself, or - if you want your kids to eat them - if you have kids who'll only eat things that will gross other people out.\", 'if you are preparing these for kids (and i recommend you do whatever name you choose to call them), protect their palates and tone down the heat of the sauce.', \"maybe skip the chiles altogether and put in just a hint of finely ground pepper (white pepper won't look like black specks throughout the dip - i'm normally not that fussy, but it's something kids will notice).\", 'allow half an avocado per person.', 'this is so rich that more is too much.', 'note:\\r\\nyou can easily cut the recipe in half, all the batter is is a one-to-one mix of flour & water (someone has suggested trying tempura batter which comes in a mix at many supermarkets - i tend to be a from-scratch kind of guy.', 'or do i just mean itchy?).', 'enjoy.', '-- text by michael david winter, aka the poker roach']\n",
      "Length: 24 [\"this is one of the best soups i've ever made and it is even worthy of company.\", 'so simple, yet rich in deep, mushroomy flavor.', 'the inspiration was zaar #26877, a delicious mushroom rice casserole.', \"i found i couldn't stop eating the liquid before putting the casserole into the oven and that gave me the idea that the base  would make a delicious soup.\", 'and it does!', 'use plenty of fresh mushrooms.', \"i buy them when they are marked 1/2 price at the grocery, as this is a good way to use your 'shrooms that are starting to get dark.\", 'it is the soy sauce that transforms the broth from ho-hum to yum.', 'i try to use low sodium or home-made no sodium chicken broth so that i can use the soy for the sodium.', 'there is no sense of \"asian\" in this soup at all.', '( i would not make this without the soy. )', 'just a little bit adds the depth of flavor and even color that transforms the soup.', 'notes:\\r\\n1. if you want to make it into \"cream of\" just add some evaporated milk...delicious.', '2.  once i broke up a leftover ground sirloin burger into my soup bowl and nuked it...was that ever good.', '3. i did do this recipe with sinewy beef scraps cut from a roast once.', 'i browned the beef in the bottom of the pan, added the butter and onions and continued as written.', 'the beef added great color and flavor.', 'in this case, i threw the beef piece away, because it had too much sinew, but it was a great addition!', 'i ended up using less soy.', '4.  i have eye-ball made this soup with amounts i had in the fridge/cupboard and it was great.', \"so if you don't have that many mushrooms, make it anyway, just keep tasting it until it tastes good to you!\", \"5.  i've made it without food-processing the onions, and that worked just as well.\", 'lots of flexibility here!', \"try it, it might be the best barley mushroom soup you've ever had!\"]\n",
      "Length: 23 ['i wrote this because there are an astounding lack of chocolate tea recipes on the internet.', 'the first time i heard about chocolate tea was doing a web search on chocolate.', 'there seem to be a few companies out there who sell chocolate tea.', 'i like to stay up late and had run out of coffee.', 'i was in real need for a good tasting caffene beverage.', 'i first thought chocolate tea would be yucky.', 'we are conditioned to accept chocolate with coffee as a rule but not tea.', 'i was very mistaken!', 'tea and chocolate goes very well with each other and it is also very good for your body.', 'both tea and chocolate are loaded with antioxidents.', 'you may however not want to give this to small children because of the caffene.', 'not having a recipe to follow, i created one.', '(this one) i used these ingredients because i had them on hand and it was quicker than hunting around for my pepermint extract or messing with my powered cocoa.', 'this being said, if you do want to use powered cocoa or pepermint extract instead of the ovaltine and lifesavers please do so.', 'experiment.', 'this recipe is \"opensource\" :-)\\r\\n\\r\\n you will have to adjust the sugar levels to taste.', 'if you like you can even omit the mints.', 'i used them and i find it gives the beverage that spceial something.', 'this recipe makes one large coffee cup of beverage.', 'if you use regular size coffee cups you may get two servings out of this if serving each person one serving each.', 'to serve 1 serving each to 2 or 3 people using large coffee cups, double or tripple the recipie accodingly\\r\\n\\r\\nenjoy !', 'please let me klnow if you like it!', ':-)']\n",
      "Length: 23 ['the first time i made this cake i grated a million pounds of carrots on a knucklebuster.', 'then they invented cuisinarts!', 'now it is much faster to shred the carrots on a fine shredding disk and no bloody knuckles!', 'i have baked it in 8\", 9\", 9x13\" pans so if you want to experiment with pan size it works.', 'one thing i found was baking and stacking the three layers is tricky.', 'my favorite way is two 8\" pans for a nice layer cake and an 8\" square pan to put into the freezer for unexpected company.', 'i hope you try this wonderful cake.', 'update:  in the spirit of carrot cake stories, this cake was invented by a bunny named foo-foo.', \"he is very famous and even has a hit song which goes like this: sing to the tune of 'down by the station'..........     \\r\\n\\r\\n\\r\\n little bunny foo foo,\\r\\nhopping through the forest,\\r\\nscooping up the field mice,\\r\\nand boppin' 'em on the head.\", 'down came the good fairy and she said - \\r\\n\\r\\n\"little bunny foo foo,\\r\\ni don\\'t want to see you,\\r\\nscooping up the field mice,\\r\\nand boppin\\' \\'em on the head.', 'i\\'ll give you three chances,\\r\\nand if you don\\'t behave ...\\r\\ni\\'ll turn you into a goon!\"', \"the next day:\\r\\n\\r\\nlittle bunny foo foo,\\r\\nhopping through the forest,\\r\\nscooping up the field mice,\\r\\nand boppin' 'em on the head.\", 'down came the good fairy and she said:\\r\\n\\r\\n\"little bunny foo foo,\\r\\ni don\\'t want to see you.', 'scooping up the field mice.', \"and boppin' 'em on the head.\", 'i\\'ll give you two more chances,\\r\\nand if you don\\'t behave...\\r\\ni\\'ll turn you into a goon!\"', \"the next day:\\r\\n\\r\\nlittle bunny foo foo,\\r\\nhopping through the forest,\\r\\nscooping up the field mice,\\r\\nand boppin' 'em on the head.\", 'down came the good fairy and she said:\\r\\n\\r\\n\"little bunny foo foo,\\r\\ni don\\'t want to see you,\\r\\nscooping up the field mice,\\r\\nand boppin\\' \\'em on the head.', 'i\\'ll give you one more chance,\\r\\nand if you don\\'t behave..........\\r\\ni\\'ll turn you into a goon!\"', 'the next day:\\r\\n\\r\\nlittle bunny foo foo,\\r\\nhopping through the forest,\\r\\nscooping up the field mice,\\r\\nand boppin\\' \\'em on the head,\\r\\n\\r\\ndown came the good fairy and she said\\r\\n\\r\\n\"little bunny foo foo,\\r\\ni don\\'t want to see you,\\r\\nscooping up the field mice,\\r\\nand boppin\\' \\'em on the head.', \"i gave you three chances\\r\\nand you didn't behave\\r\\nnow you're a goon!\", 'poof!!\"', 'the moral of the story is:\\r\\nhare today, goon tomorrow']\n"
     ]
    }
   ],
   "source": [
    "# Task 6.2.3\n",
    "print(\"Задание 6.2.3\")\n",
    "with open('../data/steps_sample.xml') as file:\n",
    "    recipes = pd.read_csv('../data/recipes_sample.csv')\n",
    "    recipes_xml = BeautifulSoup(file, 'xml')\n",
    "    recipes_d = recipes['description'].fillna(\"null\").apply(nltk.sent_tokenize)\n",
    "    [print(\"Length:\", len(i), i) for i in sorted(recipes_d, key=lambda recipes_d: len(recipes_d), reverse=True)[:5]]\n"
   ],
   "metadata": {
    "collapsed": false,
    "pycharm": {
     "name": "#%%\n"
    }
   }
  },
  {
   "cell_type": "markdown",
   "metadata": {},
   "source": [
    "6\\.2\\.4\\. Напишите функцию, которая для заданного предложения выводит информацию о частях речи слов, входящих в предложение, в следующем виде:\n",
    "```\n",
    "PRP   VBD   DT      NNS     CC   VBD      NNS        RB   \n",
    " I  omitted the raspberries and added strawberries instead\n",
    "``` \n",
    "Для определения части речи слова можно воспользоваться `nltk.pos_tag`.\n",
    "\n",
    "Проверьте работоспособность функции на названии рецепта с id 241106.\n",
    "\n",
    "Обратите внимание, что часть речи должна находиться ровно посередине над соотвествующим словом, а между самими словами должен быть ровно один пробел."
   ]
  },
  {
   "cell_type": "code",
   "execution_count": 19,
   "outputs": [
    {
     "name": "stdout",
     "output_type": "stream",
     "text": [
      "Задание 6.2.4\n",
      "JJ       NNS    IN   NNS       VBP  JJ     CC  JJ    NNS    \n",
      "eggplant steaks with chickpeas feta cheese and black olives \n"
     ]
    }
   ],
   "source": [
    "# Task 6.2.4\n",
    "print(\"Задание 6.2.4\")\n",
    "\n",
    "\n",
    "def func_6_2_4(number_of_sentence):\n",
    "    recipes = pd.read_csv('../data/recipes_sample.csv')\n",
    "    inform = nltk.pos_tag(nltk.word_tokenize(recipes[recipes['id'] == number_of_sentence].name.values[0]))\n",
    "    print(''.join([f\"{j:{len(i) + 1}}\" for i, j in inform]) + '\\n' + ''.join([f\"{i:{len(i) + 1}}\" for i, j in inform]))\n",
    "\n",
    "\n",
    "func_6_2_4(241106)"
   ],
   "metadata": {
    "collapsed": false,
    "pycharm": {
     "name": "#%%\n"
    }
   }
  },
  {
   "cell_type": "code",
   "execution_count": null,
   "outputs": [],
   "source": [],
   "metadata": {
    "collapsed": false,
    "pycharm": {
     "name": "#%%\n"
    }
   }
  }
 ],
 "metadata": {
  "kernelspec": {
   "display_name": "Python 3 (ipykernel)",
   "language": "python",
   "name": "python3"
  },
  "language_info": {
   "codemirror_mode": {
    "name": "ipython",
    "version": 3
   },
   "file_extension": ".py",
   "mimetype": "text/x-python",
   "name": "python",
   "nbconvert_exporter": "python",
   "pygments_lexer": "ipython3",
   "version": "3.9.12"
  }
 },
 "nbformat": 4,
 "nbformat_minor": 4
}